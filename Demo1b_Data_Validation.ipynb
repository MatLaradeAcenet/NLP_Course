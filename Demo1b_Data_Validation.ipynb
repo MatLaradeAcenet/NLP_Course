{
 "cells": [
  {
   "cell_type": "code",
   "execution_count": 1,
   "metadata": {},
   "outputs": [],
   "source": [
    "import numpy as np\n",
    "import os\n",
    "from sklearn.feature_extraction.text import CountVectorizer\n",
    "try:\n",
    "    os.chdir(\"Sonnets\")\n",
    "except:\n",
    "    pass"
   ]
  },
  {
   "cell_type": "code",
   "execution_count": 6,
   "metadata": {},
   "outputs": [
    {
     "name": "stdout",
     "output_type": "stream",
     "text": [
      "stopwords.txt\n"
     ]
    }
   ],
   "source": [
    "# define training data\n",
    "#I am calling the data \"Corpus\" this time to be consistent with the Gensim Docs\n",
    "corpus = os.listdir('.')\n",
    "for file in corpus:\n",
    "    if file.startswith(\"Sonnet\") and file.endswith(\".txt\"):\n",
    "        pass\n",
    "    else:\n",
    "        print(file)\n",
    "        corpus.remove(file)\n",
    "corpus.sort()"
   ]
  },
  {
   "cell_type": "code",
   "execution_count": 3,
   "metadata": {},
   "outputs": [
    {
     "data": {
      "text/plain": [
       "(5, 283)"
      ]
     },
     "execution_count": 3,
     "metadata": {},
     "output_type": "execute_result"
    }
   ],
   "source": [
    "sample_vectorizer = CountVectorizer(input='filename')\n",
    "corpus_sample = sample_vectorizer.fit_transform(corpus[0:5])\n",
    "numpy_sample = corpus_sample.toarray()\n",
    "numpy_sample.shape"
   ]
  },
  {
   "cell_type": "code",
   "execution_count": 4,
   "metadata": {},
   "outputs": [
    {
     "name": "stdout",
     "output_type": "stream",
     "text": [
      "[0 0 0 3 0 1 4 0 1 0 0 1 1 0 0 0 2 0 4 0 1 0 0 1 1 0 0 1 0 1 0 0 0 1 1 0 0\n",
      " 0 1 1 1 0 0 2 0 0 1 0 0 0 0 1 0 0 0 0 0 0 0 1 0 0 0 0 0 0 1 0 0 1 0 1 0 1\n",
      " 1 0 0 0 0 0 1 0 0 0 0 0 0 1 0 0 0 0 0 0 0 0 0 0 0 0 0 0 1 0 0 0 1 0 1 0 1\n",
      " 0 1 0 1 0 0 0 0 0 0 0 0 0 0 0 0 1 0 0 1 0 0 0 0 0 0 0 1 1 1 0 1 1 0 1 0 2\n",
      " 0 0 1 0 0 0 0 0 1 3 2 1 0 0 1 0 0 0 0 0 2 0 0 0 1 1 0 0 0 0 0 0 0 0 0 0 1\n",
      " 1 0 2 0 1 0 0 0 0 0 1 0 1 0 0 1 0 0 0 1 1 0 0 1 0 1 0 0 0 0 0 1 0 0 1 0 0\n",
      " 2 2 0 3 0 1 0 7 0 0 0 0 2 0 0 0 0 1 1 0 0 0 0 0 0 0 1 0 0 0 0 0 0 0 1 0 1\n",
      " 2 0 3 2 0 0 0 0 1 0 0 0 0 1 0 1 0 0 0 0 1 0 0 1]\n",
      "(array([  3,   5,   6,   8,  11,  12,  16,  18,  20,  23,  24,  27,  29,\n",
      "        33,  34,  38,  39,  40,  43,  46,  51,  59,  66,  69,  71,  73,\n",
      "        74,  80,  87, 102, 106, 108, 110, 112, 114, 127, 130, 138, 139,\n",
      "       140, 142, 143, 145, 147, 150, 156, 157, 158, 159, 162, 168, 172,\n",
      "       173, 184, 185, 187, 189, 195, 197, 200, 204, 205, 208, 210, 216,\n",
      "       219, 222, 223, 225, 227, 229, 234, 239, 240, 248, 256, 258, 259,\n",
      "       261, 262, 267, 272, 274, 279, 282], dtype=int64),)\n"
     ]
    }
   ],
   "source": [
    "#Let's take a close look at sonnet #1 and make sure the code's doing what we think it's doing.\n",
    "print(numpy_sample[0])\n",
    "print(np.nonzero(numpy_sample[0]))"
   ]
  },
  {
   "cell_type": "code",
   "execution_count": 5,
   "metadata": {
    "tags": []
   },
   "outputs": [
    {
     "ename": "FileNotFoundError",
     "evalue": "[Errno 2] No such file or directory: 'Sonnet_1.txt'",
     "output_type": "error",
     "traceback": [
      "\u001b[1;31m---------------------------------------------------------------------------\u001b[0m",
      "\u001b[1;31mFileNotFoundError\u001b[0m                         Traceback (most recent call last)",
      "\u001b[1;32m<ipython-input-5-cda62f92ba56>\u001b[0m in \u001b[0;36m<module>\u001b[1;34m\u001b[0m\n\u001b[1;32m----> 1\u001b[1;33m \u001b[0mSonnet1\u001b[0m \u001b[1;33m=\u001b[0m \u001b[0mopen\u001b[0m\u001b[1;33m(\u001b[0m\u001b[1;34m'Sonnet_1.txt'\u001b[0m\u001b[1;33m,\u001b[0m \u001b[1;34m'r'\u001b[0m\u001b[1;33m)\u001b[0m\u001b[1;33m.\u001b[0m\u001b[0mread\u001b[0m\u001b[1;33m(\u001b[0m\u001b[1;33m)\u001b[0m\u001b[1;33m\u001b[0m\u001b[1;33m\u001b[0m\u001b[0m\n\u001b[0m\u001b[0;32m      2\u001b[0m \u001b[0mprint\u001b[0m\u001b[1;33m(\u001b[0m\u001b[0mSonnet1\u001b[0m\u001b[1;33m)\u001b[0m\u001b[1;33m\u001b[0m\u001b[1;33m\u001b[0m\u001b[0m\n",
      "\u001b[1;31mFileNotFoundError\u001b[0m: [Errno 2] No such file or directory: 'Sonnet_1.txt'"
     ]
    }
   ],
   "source": [
    "Sonnet1 = open('Sonnet_1.txt', 'r').read()\n",
    "print(Sonnet1)"
   ]
  },
  {
   "cell_type": "code",
   "execution_count": 7,
   "metadata": {},
   "outputs": [
    {
     "name": "stdout",
     "output_type": "stream",
     "text": [
      "['abundance', 'and', 'art', 'as', 'be', 'bear', 'beauty', 'bright', 'bud', 'buriest', 'but', 'by', 'churl']\n"
     ]
    }
   ],
   "source": [
    "word_list = [sample_vectorizer.get_feature_names()[4], sample_vectorizer.get_feature_names()[8], sample_vectorizer.get_feature_names()[14], sample_vectorizer.get_feature_names()[15], sample_vectorizer.get_feature_names()[18], sample_vectorizer.get_feature_names()[19], sample_vectorizer.get_feature_names()[21], sample_vectorizer.get_feature_names()[27], sample_vectorizer.get_feature_names()[28], sample_vectorizer.get_feature_names()[30], sample_vectorizer.get_feature_names()[31], sample_vectorizer.get_feature_names()[32], sample_vectorizer.get_feature_names()[35]]\n",
    "print(word_list)"
   ]
  },
  {
   "cell_type": "code",
   "execution_count": 8,
   "metadata": {},
   "outputs": [
    {
     "name": "stdout",
     "output_type": "stream",
     "text": [
      "Found\n",
      "Found\n",
      "Found\n",
      "Found\n",
      "Found\n",
      "Found\n",
      "Found\n",
      "Found\n",
      "Found\n",
      "Found\n",
      "Found\n",
      "Found\n",
      "Found\n"
     ]
    }
   ],
   "source": [
    "for word in word_list:\n",
    "    if word in Sonnet1.lower():\n",
    "        print('Found')\n",
    "    else:\n",
    "        print('Missing')"
   ]
  },
  {
   "cell_type": "code",
   "execution_count": 9,
   "metadata": {},
   "outputs": [
    {
     "name": "stdout",
     "output_type": "stream",
     "text": [
      "Missing\n",
      "Found\n",
      "Found\n",
      "Found\n",
      "Found\n",
      "Missing\n",
      "Found\n",
      "Missing\n",
      "Missing\n",
      "Missing\n",
      "Missing\n",
      "Found\n",
      "Missing\n"
     ]
    }
   ],
   "source": [
    "Sonnet2 = open('Sonnet_2.txt', 'r').read()\n",
    "for word in word_list:\n",
    "    if word in Sonnet2.lower():\n",
    "        print('Found')\n",
    "    else:\n",
    "        print('Missing')"
   ]
  }
 ],
 "metadata": {
  "kernelspec": {
   "display_name": "Python 3",
   "language": "python",
   "name": "python3"
  },
  "language_info": {
   "codemirror_mode": {
    "name": "ipython",
    "version": 3
   },
   "file_extension": ".py",
   "mimetype": "text/x-python",
   "name": "python",
   "nbconvert_exporter": "python",
   "pygments_lexer": "ipython3",
   "version": "3.7.3"
  }
 },
 "nbformat": 4,
 "nbformat_minor": 4
}
