{
 "cells": [
  {
   "cell_type": "code",
   "execution_count": 24,
   "id": "4bcd196e-c1b8-4a63-9aa7-81c6e3447ae3",
   "metadata": {},
   "outputs": [
    {
     "name": "stdout",
     "output_type": "stream",
     "text": [
      "shakespeares-sonnets_TXT_FolgerShakespeare.txt\n",
      "stopwords.txt\n"
     ]
    }
   ],
   "source": [
    "import os\n",
    "from gensim import corpora\n",
    "from gensim.utils import simple_preprocess, deaccent\n",
    "from gensim.models import Word2Vec\n",
    "from gensim.parsing.preprocessing import STOPWORDS, remove_stopwords\n",
    "import numpy as np\n",
    "\n",
    "try:\n",
    "    os.chdir(\"Sonnets\")\n",
    "except:\n",
    "    pass\n",
    "\n",
    "file_list = os.listdir('.')\n",
    "for file in file_list:\n",
    "    if file.startswith(\"Sonnet\") and file.endswith(\".txt\"):\n",
    "        pass\n",
    "    else:\n",
    "        print(file)\n",
    "        file_list.remove(file)\n",
    "file_list.sort()"
   ]
  },
  {
   "cell_type": "code",
   "execution_count": 2,
   "id": "d6181de1-f297-4115-a958-7095b787ecd0",
   "metadata": {},
   "outputs": [],
   "source": [
    "corpus = []\n",
    "for file in sorted(file_list):\n",
    "    corpus.append(open(file, 'r').read())"
   ]
  },
  {
   "cell_type": "code",
   "execution_count": 3,
   "id": "1ae05146-c147-48d3-a82e-db09f3a28388",
   "metadata": {},
   "outputs": [
    {
     "name": "stdout",
     "output_type": "stream",
     "text": [
      "From fairest creatures we desire increase,\n",
      "That thereby beauty's rose might never die,\n",
      "But, as the riper should by time decease,\n",
      "His tender heir might bear his memory.\n",
      "But thou, contracted to thine own bright eyes,\n",
      "Feed'st thy light's flame with self-substantial fuel,\n",
      "Making a famine where abundance lies,\n",
      "Thyself thy foe, to thy sweet self too cruel.\n",
      "Thou that art now the world's fresh ornament\n",
      "And only herald to the gaudy spring\n",
      "Within thine own bud buriest thy content\n",
      "And, tender churl, mak'st waste in niggarding.\n",
      "  Pity the world, or else this glutton be--\n",
      "  To eat the world's due, by the grave and thee.\n",
      "\n"
     ]
    }
   ],
   "source": [
    "#check and make sure it's working right before we mess with anything\n",
    "print(corpus[0])"
   ]
  },
  {
   "cell_type": "code",
   "execution_count": 4,
   "id": "2c4436d5-b74c-4c08-95ad-f3cda4f989c1",
   "metadata": {},
   "outputs": [
    {
     "name": "stdout",
     "output_type": "stream",
     "text": [
      "frozenset({'off', 'using', 'system', 'front', 'various', 'anyhow', 'whither', 'therein', 'therefore', 'side', 'often', 'formerly', 'next', 'twelve', 'ie', 'fifty', 'ever', 'with', 'all', 'only', 'whereafter', 'everywhere', 'around', 'eleven', 'nor', 'wherever', 'we', 'besides', 'an', 'mine', 'keep', 'noone', 'the', 'could', 'once', 'whereby', 'one', 'ten', 'didn', 'afterwards', 'on', 'his', 'everyone', 'until', 'here', 'onto', 'amongst', 'neither', 'really', 'too', 'bottom', 'although', 'during', 'becoming', 'empty', 'forty', 'eight', 'me', 'first', 'own', 'its', 'un', 'be', 'while', 'something', 'whole', 'hence', 'have', 'anything', 'will', 'as', 'might', 'anyway', 'to', 'she', 'from', 'does', 'seeming', 'put', 'no', 'eg', 'should', 'five', 'done', 'mill', 'himself', 'what', 'my', 'their', 'our', 'how', 'elsewhere', 'thereupon', 'find', 'has', 'somehow', 'call', 'amoungst', 'else', 'seem', 'co', 'well', 'since', 'and', 'that', 'sincere', 'unless', 'none', 'these', 'whose', 'across', 'about', 'inc', 'i', 'yourself', 'become', 'cannot', 'without', 'doesn', 'you', 'twenty', 'everything', 'perhaps', 'more', 'get', 'ours', 'by', 'third', 'beyond', 'at', 'detail', 'but', 'into', 'ourselves', 'seems', 'hundred', 'nine', 'over', 'same', 'cant', 'four', 'very', 'now', 'thick', 'go', 'yet', 'just', 'someone', 'anywhere', 'why', 'moreover', 'regarding', 'last', 'other', 'rather', 'nevertheless', 'whereas', 'it', 'towards', 'further', 'your', 'nobody', 'where', 'least', 'several', 'see', 'before', 'amount', 'fifteen', 'do', 'thereafter', 'give', 'behind', 'some', 'again', 'in', 'itself', 'computer', 'sometimes', 'describe', 'whence', 'myself', 'sixty', 'still', 'sometime', 'hereafter', 'were', 'any', 'nowhere', 'hereupon', 'this', 'among', 'cry', 'because', 'him', 'whenever', 'beside', 'via', 'used', 'thereby', 'or', 'due', 'full', 'am', 'such', 'somewhere', 'did', 'had', 'herself', 'show', 'being', 'former', 'down', 'meanwhile', 'both', 'bill', 'throughout', 'every', 'after', 'up', 'also', 'don', 'serious', 'hereby', 'becomes', 'than', 'even', 'themselves', 'made', 'whoever', 'already', 're', 'for', 'her', 'mostly', 'make', 'namely', 'whatever', 'interest', 'alone', 'together', 'against', 'others', 'each', 'always', 'seemed', 'quite', 'anyone', 'kg', 'those', 'thin', 'toward', 'wherein', 'nothing', 'much', 'however', 'many', 'he', 'three', 'two', 'so', 'part', 'then', 'please', 'herein', 'take', 'except', 'almost', 'can', 'either', 'of', 'who', 'upon', 'may', 'us', 'they', 'name', 'hers', 'ltd', 'when', 'few', 'been', 'are', 'top', 'between', 'hasnt', 'thence', 'otherwise', 'back', 'move', 'them', 'doing', 'through', 'under', 'yourselves', 'whereupon', 'would', 'whom', 'though', 'was', 'per', 'fire', 'enough', 'out', 'below', 'which', 'most', 'yours', 'beforehand', 'within', 'along', 'above', 'if', 'six', 'latterly', 'must', 'de', 'latter', 'etc', 'thus', 'say', 'another', 'found', 'a', 'is', 'whether', 'there', 'couldnt', 'con', 'not', 'thru', 'became', 'fill', 'never', 'km', 'less', 'indeed'})\n",
      "['a\\n', 'about\\n', 'actually\\n', 'almost\\n', 'also\\n', 'although\\n', 'always\\n', 'am\\n', 'an\\n', 'and\\n', 'any\\n', 'are\\n', 'as\\n', 'at\\n', 'be\\n', 'became\\n', 'become\\n', 'but\\n', 'by\\n', 'can\\n', 'could\\n', 'did\\n', 'do\\n', 'does\\n', 'each\\n', 'either\\n', 'else\\n', 'for\\n', 'from\\n', 'had\\n', 'has\\n', 'have\\n', 'hence\\n', 'how\\n', 'i\\n', 'if\\n', 'in\\n', 'is\\n', 'it\\n', 'its\\n', 'just\\n', 'may\\n', 'maybe\\n', 'me\\n', 'might\\n', 'mine\\n', 'must\\n', 'my\\n', 'mine\\n', 'must\\n', 'my\\n', 'neither\\n', 'nor\\n', 'not\\n', 'of\\n', 'oh\\n', 'ok\\n', 'when\\n', 'where\\n', 'whereas\\n', 'wherever\\n', 'whenever\\n', 'whether\\n', 'which\\n', 'while\\n', 'who\\n', 'whom\\n', 'whoever\\n', 'whose\\n', 'why\\n', 'will\\n', 'with\\n', 'within\\n', 'without\\n', 'would\\n', 'yes\\n', 'yet\\n', 'you\\n', 'your\\n']\n"
     ]
    }
   ],
   "source": [
    "print(STOPWORDS)"
   ]
  },
  {
   "cell_type": "code",
   "execution_count": 5,
   "id": "b5daf176-a175-4da8-a614-68b1cc629f31",
   "metadata": {},
   "outputs": [
    {
     "name": "stdout",
     "output_type": "stream",
     "text": [
      "['a\\n', 'about\\n', 'actually\\n', 'almost\\n', 'also\\n', 'although\\n', 'always\\n', 'am\\n', 'an\\n', 'and\\n', 'any\\n', 'are\\n', 'as\\n', 'at\\n', 'be\\n', 'became\\n', 'become\\n', 'but\\n', 'by\\n', 'can\\n', 'could\\n', 'did\\n', 'do\\n', 'does\\n', 'each\\n', 'either\\n', 'else\\n', 'for\\n', 'from\\n', 'had\\n', 'has\\n', 'have\\n', 'hence\\n', 'how\\n', 'i\\n', 'if\\n', 'in\\n', 'is\\n', 'it\\n', 'its\\n', 'just\\n', 'may\\n', 'maybe\\n', 'me\\n', 'might\\n', 'mine\\n', 'must\\n', 'my\\n', 'mine\\n', 'must\\n', 'my\\n', 'neither\\n', 'nor\\n', 'not\\n', 'of\\n', 'oh\\n', 'ok\\n', 'when\\n', 'where\\n', 'whereas\\n', 'wherever\\n', 'whenever\\n', 'whether\\n', 'which\\n', 'while\\n', 'who\\n', 'whom\\n', 'whoever\\n', 'whose\\n', 'why\\n', 'will\\n', 'with\\n', 'within\\n', 'without\\n', 'would\\n', 'yes\\n', 'yet\\n', 'you\\n', 'your\\n']\n"
     ]
    }
   ],
   "source": [
    "stop_words = open(\"stopwords.txt\", 'r').readlines()\n",
    "STOPWORDS = stop_words\n",
    "print(STOPWORDS)"
   ]
  },
  {
   "cell_type": "code",
   "execution_count": 25,
   "id": "8a811a8f-3083-4ed9-b02f-23a68bd65296",
   "metadata": {},
   "outputs": [],
   "source": [
    "preprocessed_corpus = []\n",
    "for index, sonnet in enumerate(corpus):\n",
    "    preprocessed_corpus.append(simple_preprocess(remove_stopwords(deaccent(sonnet))))"
   ]
  },
  {
   "cell_type": "code",
   "execution_count": 26,
   "id": "9bf242c8-b0fa-4e13-a638-86a1de78471d",
   "metadata": {},
   "outputs": [
    {
     "name": "stdout",
     "output_type": "stream",
     "text": [
      "['from', 'fairest', 'creatures', 'desire', 'increase', 'that', 'beauty', 'rose', 'die', 'but', 'riper', 'time', 'decease', 'his', 'tender', 'heir', 'bear', 'memory', 'but', 'thou', 'contracted', 'thine', 'bright', 'eyes', 'feed', 'st', 'thy', 'light', 'flame', 'self', 'substantial', 'fuel', 'making', 'famine', 'abundance', 'lies', 'thyself', 'thy', 'foe', 'thy', 'sweet', 'self', 'cruel', 'thou', 'art', 'world', 'fresh', 'ornament', 'and', 'herald', 'gaudy', 'spring', 'within', 'thine', 'bud', 'buriest', 'thy', 'content', 'and', 'tender', 'churl', 'mak', 'st', 'waste', 'niggarding', 'pity', 'world', 'glutton', 'be', 'to', 'eat', 'world', 'due', 'grave', 'thee']\n"
     ]
    }
   ],
   "source": [
    "print(preprocessed_corpus[0])"
   ]
  },
  {
   "cell_type": "code",
   "execution_count": 27,
   "id": "ed4607c7-780b-443b-a7b9-0eb64001c5f1",
   "metadata": {},
   "outputs": [
    {
     "name": "stdout",
     "output_type": "stream",
     "text": [
      "From fairest creatures we desire increase,\n",
      "That thereby beauty's rose might never die,\n",
      "But, as the riper should by time decease,\n",
      "His tender heir might bear his memory.\n",
      "But thou, contracted to thine own bright eyes,\n",
      "Feed'st thy light's flame with self-substantial fuel,\n",
      "Making a famine where abundance lies,\n",
      "Thyself thy foe, to thy sweet self too cruel.\n",
      "Thou that art now the world's fresh ornament\n",
      "And only herald to the gaudy spring\n",
      "Within thine own bud buriest thy content\n",
      "And, tender churl, mak'st waste in niggarding.\n",
      "  Pity the world, or else this glutton be--\n",
      "  To eat the world's due, by the grave and thee.\n",
      "\n"
     ]
    }
   ],
   "source": [
    "Sonnet1 = open('Sonnet_001.txt', 'r').read()\n",
    "print(Sonnet1)"
   ]
  },
  {
   "cell_type": "code",
   "execution_count": 28,
   "id": "af6fd5c8-151d-44ea-ae07-1604f81edebc",
   "metadata": {},
   "outputs": [],
   "source": [
    "\"\"\"\n",
    "A dictionary is a computationally efficient collection of associated values.\n",
    "It's more complicated than that, but for the purposes of this talk, \n",
    "that's all that you need to know.\n",
    "See: https://www.w3schools.com/python/python_dictionaries.asp, https://www.youtube.com/watch?v=daefaLgNkw0\n",
    "\"\"\"\n",
    "dictionary = corpora.Dictionary(preprocessed_corpus)"
   ]
  },
  {
   "cell_type": "code",
   "execution_count": 29,
   "id": "998671df-5d2b-4355-9709-0956aa642a00",
   "metadata": {},
   "outputs": [
    {
     "name": "stdout",
     "output_type": "stream",
     "text": [
      "[0, 1, 2, 3, 4, 5, 6, 7, 8, 9]\n"
     ]
    }
   ],
   "source": [
    "#print out the keys in the dictionary\n",
    "print(dictionary.keys()[0:10])"
   ]
  },
  {
   "cell_type": "code",
   "execution_count": 30,
   "id": "0a5c095b-ecbe-4b90-a9eb-35517a043a23",
   "metadata": {},
   "outputs": [
    {
     "name": "stdout",
     "output_type": "stream",
     "text": [
      "abundance\n",
      "and\n",
      "art\n",
      "be\n",
      "bear\n",
      "beauty\n",
      "bright\n",
      "bud\n",
      "buriest\n",
      "but\n"
     ]
    }
   ],
   "source": [
    "#this is a routine way to cycle information out of a dictionary\n",
    "for key in range(10):\n",
    "    print(dictionary[key])"
   ]
  },
  {
   "cell_type": "code",
   "execution_count": 31,
   "id": "c413c621-a01f-45e1-a4bb-a9a4702dccc7",
   "metadata": {},
   "outputs": [
    {
     "name": "stdout",
     "output_type": "stream",
     "text": [
      "Wall time: 140 ms\n"
     ]
    },
    {
     "data": {
      "text/plain": [
       "(91589, 158250)"
      ]
     },
     "execution_count": 31,
     "metadata": {},
     "output_type": "execute_result"
    }
   ],
   "source": [
    "%%time\n",
    "word2vec_model = Word2Vec(sentences=preprocessed_corpus, min_count=3)\n",
    "word2vec_model.train(corpus_iterable=preprocessed_corpus, total_examples=word2vec_model.corpus_count, epochs=15)"
   ]
  },
  {
   "cell_type": "code",
   "execution_count": 32,
   "id": "45ec5654-b44d-4213-8f95-d20d754a8608",
   "metadata": {},
   "outputs": [
    {
     "name": "stdout",
     "output_type": "stream",
     "text": [
      "Word2Vec(vocab=801, vector_size=100, alpha=0.025)\n"
     ]
    }
   ],
   "source": [
    "print(word2vec_model)"
   ]
  },
  {
   "cell_type": "code",
   "execution_count": 33,
   "id": "b02f20c0-e526-446e-95d6-fe662d00a777",
   "metadata": {},
   "outputs": [
    {
     "data": {
      "text/plain": [
       "[('which', 0.9994979500770569),\n",
       " ('that', 0.9994871616363525),\n",
       " ('tell', 0.9994825124740601),\n",
       " ('and', 0.9994820356369019),\n",
       " ('far', 0.9994720816612244),\n",
       " ('to', 0.9994593262672424),\n",
       " ('yet', 0.9994587302207947),\n",
       " ('but', 0.9994558691978455),\n",
       " ('sweet', 0.9994496703147888),\n",
       " ('seen', 0.9994474053382874)]"
      ]
     },
     "execution_count": 33,
     "metadata": {},
     "output_type": "execute_result"
    }
   ],
   "source": [
    "word2vec_model.wv.most_similar(\"her\")"
   ]
  },
  {
   "cell_type": "code",
   "execution_count": 15,
   "id": "baff713e-cb96-462b-91c2-1f1c8b8ba4e1",
   "metadata": {},
   "outputs": [
    {
     "data": {
      "text/plain": [
       "[('for', 0.9994032382965088),\n",
       " ('seen', 0.9993699789047241),\n",
       " ('be', 0.9993692636489868),\n",
       " ('or', 0.9993289709091187),\n",
       " ('age', 0.9993182420730591),\n",
       " ('which', 0.999306857585907),\n",
       " ('best', 0.9992877244949341),\n",
       " ('then', 0.9992856979370117),\n",
       " ('fair', 0.9992792010307312),\n",
       " ('to', 0.9992762804031372)]"
      ]
     },
     "execution_count": 15,
     "metadata": {},
     "output_type": "execute_result"
    }
   ],
   "source": [
    "word2vec_model.wv.most_similar(\"black\")"
   ]
  },
  {
   "cell_type": "code",
   "execution_count": 17,
   "id": "6dca5a47-beeb-4333-b35b-96d81e416084",
   "metadata": {},
   "outputs": [
    {
     "name": "stdout",
     "output_type": "stream",
     "text": [
      "[-4.73005772e-02  9.19955075e-02  5.52985445e-03  2.25341134e-02\n",
      "  3.55200395e-02 -2.06510931e-01  3.41929942e-02  2.77718544e-01\n",
      " -9.79683101e-02 -8.92269313e-02 -6.81132674e-02 -1.61282539e-01\n",
      " -1.97759531e-02  6.48735613e-02  7.88024217e-02 -6.66981190e-02\n",
      "  4.08615023e-02 -7.03700036e-02 -6.13764897e-02 -2.78255165e-01\n",
      "  3.65303159e-02  5.53986430e-02  1.62657239e-02 -6.51194900e-02\n",
      " -7.89585263e-02  2.08142996e-02 -1.43072367e-01 -9.31769162e-02\n",
      " -5.38628101e-02  5.86039722e-02  1.41776651e-01  2.10285299e-02\n",
      "  5.39892316e-02 -6.53996766e-02 -7.40603805e-02  1.84518903e-01\n",
      "  1.44634582e-02 -9.21886265e-02 -1.10925108e-01 -1.97202265e-01\n",
      "  4.10275757e-02 -8.19164664e-02 -4.46533635e-02 -8.67019221e-03\n",
      "  1.06533527e-01 -7.23470151e-02 -3.92349809e-02 -5.07094935e-02\n",
      "  7.30272084e-02  4.65904102e-02  7.29196668e-02 -1.51550412e-01\n",
      " -4.06685844e-02 -1.08807348e-02 -1.04441613e-01  7.97439814e-02\n",
      "  3.44567746e-02 -1.62948444e-02 -1.22343719e-01  4.60932702e-02\n",
      "  2.41352394e-02  2.46179253e-02  2.80497614e-02 -4.86828983e-02\n",
      " -1.71101213e-01  1.11063123e-01  4.16928232e-02  7.05647767e-02\n",
      " -1.82827026e-01  9.96124148e-02 -6.49706125e-02  2.88300440e-02\n",
      "  1.25947773e-01 -3.35129909e-03  1.20747060e-01  6.49604350e-02\n",
      "  2.22083181e-04 -5.08335186e-04 -1.05986625e-01  7.87495971e-02\n",
      " -6.72670752e-02 -3.07693183e-02 -1.37382060e-01  1.87357605e-01\n",
      "  2.00673304e-02 -1.86204389e-02  2.89716423e-02  1.52017444e-01\n",
      "  1.54813647e-01  9.31296032e-03  1.53371453e-01  3.06717306e-02\n",
      "  1.59532558e-02 -2.69116834e-02  1.81154370e-01  1.42172307e-01\n",
      "  1.02320313e-01 -1.17952168e-01  4.81583327e-02 -1.67416297e-02]\n"
     ]
    }
   ],
   "source": [
    "print(np.subtract(word2vec_model.wv[\"for\"], word2vec_model.wv[\"black\"]))"
   ]
  },
  {
   "cell_type": "code",
   "execution_count": 18,
   "id": "e0975e5a-42cb-4d14-9792-948fe23aa907",
   "metadata": {},
   "outputs": [
    {
     "name": "stdout",
     "output_type": "stream",
     "text": [
      "['thy', 'and', 'thou', 'love', 'thee', 'but', 'doth', 'that', 'to', 'the', 'for', 'time', 'beauty', 'so', 'shall', 'sweet', 'heart', 'when', 'eyes', 'me', 'st', 'art', 'which', 'thine', 'fair', 'hath', 'then', 'eye', 'as', 'or', 'in', 'true', 'if', 'like', 'world', 'be', 'my', 'dost', 'you', 'live', 'praise', 'let', 'day', 'new', 'yet', 'nor', 'truth', 'best', 'life', 'night', 'look', 'self', 'dear', 'old', 'how', 'worth', 'this', 'not', 'know', 'who', 'of', 'one', 'thyself', 'no', 'death', 'now', 'summer', 'face', 'all', 'heaven', 'men', 'better', 'false', 'ill', 'mine', 'thought', 'away', 'with', 'thoughts', 'mind', 'hate', 'hast', 'days', 'sight', 'is', 'more', 'age', 'what', 'since', 'tongue', 'muse', 'hand', 'nature', 'far', 'dead', 'friend', 'will', 'youth', 'er', 'by', 'come', 'verse', 'poor', 'good', 'tell', 'think', 'they', 'state', 'proud', 'gentle', 'wilt', 'things', 'till', 'it', 'from', 'black', 'use', 'lie', 'than', 'hold', 'still', 'why', 'bear', 'mayst', 'alone', 'hours', 'change', 'kind', 'woe', 'die', 'lies', 'thus', 'looks', 'whilst', 'tis', 'making', 'sun', 'long', 'soul', 'where', 'grow', 'even', 'knows', 'have', 'end', 'grace', 'seen', 'bright', 'show', 'pleasure', 'prove', 'pride', 'shalt', 'form', 'earth', 'happy', 'rich', 'part', 'though', 'words', 'pen', 'store', 'write', 'shame', 'see', 'he', 'against', 'loving', 'her', 'deeds', 'blessed', 'place', 'desire', 'glass', 'spirit', 'great', 'right', 'th', 'leave', 'treasure', 'lose', 'gone', 'those', 'lives', 'strong', 'give', 'fortune', 'pity', 'beauteous', 'times', 'stay', 'decay', 'past', 'therefore', 'power', 'thing', 'loves', 'memory', 'name', 'sake', 'lest', 'child', 'delight', 'ring', 'flowers', 'joy', 'makes', 'lovely', 'glory', 'cruel', 'lines', 'faults', 'are', 'on', 'stand', 'body', 'loss', 'bring', 'skill', 'fear', 'blood', 'view', 'shadow', 'speak', 'winter', 'leaves', 'disgrace', 'brow', 'upon', 'save', 'gives', 'hell', 'deep', 'mistress', 'sin', 'before', 'others', 'some', 'might', 'make', 'bad', 'rest', 'seeing', 'waste', 'man', 'fresh', 'sad', 'living', 'breast', 'wide', 'excuse', 'll', 'cold', 'worst', 'outward', 'were', 'such', 'virtue', 'forth', 'white', 'canst', 'sing', 'judgment', 'well', 'present', 'honor', 'lips', 'steal', 'swear', 'light', 'straight', 'tender', 'foul', 'war', 'parts', 'ah', 'behold', 'none', 'breath', 'set', 'hear', 'roses', 'dull', 'without', 'hope', 'woman', 'blind', 'wrong', 'heavy', 'return', 'way', 'him', 'reason', 'despite', 'swift', 'rose', 'care', 'book', 'strange', 'dumb', 'again', 'writ', 'wit', 'need', 'another', 'whose', 'ere', 'fears', 'taught', 'shouldst', 'mad', 'gainst', 'slave', 'head', 'sick', 'there', 'born', 'do', 'shows', 'within', 'these', 'argument', 'although', 'eternal', 'precious', 'wealth', 'spent', 'your', 'dwell', 'compare', 'painting', 'play', 'rhyme', 'spend', 'sweets', 'strength', 'grief', 'having', 'music', 'longer', 'truly', 'beloved', 'mortal', 'grew', 'keeps', 'doom', 'read', 'wish', 'holds', 'angel', 'shape', 'painted', 'saw', 'sea', 'date', 'oft', 'stars', 'faith', 'worse', 'green', 'barren', 'gracious', 'short', 'find', 'may', 'lived', 'gift', 'antique', 'at', 'his', 'gave', 'year', 'rage', 'graces', 'hue', 'fast', 'tied', 'fell', 'chide', 'near', 'purpose', 'lov', 'cheek', 'flower', 'trust', 'ry', 'spite', 'needs', 'myself', 'sweetest', 'canker', 'found', 'sorrow', 'base', 'ornament', 'hide', 'birth', 'loved', 'stol', 'spring', 'moan', 'scope', 'take', 'lend', 'subject', 'invention', 'being', 'made', 'mother', 'rank', 'tomb', 'calls', 'says', 'motion', 'slow', 'large', 'wrinkles', 'golden', 'kill', 'absence', 'pain', 'brain', 'tears', 'was', 'most', 'left', 'merit', 'everywhere', 'buried', 'boast', 'speaking', 'worthy', 'beauties', 'scythe', 'mark', 'remembered', 'absent', 'knife', 'single', 'husband', 'image', 'taste', 'lease', 'blame', 'leisure', 'crime', 'lost', 'pluck', 'minutes', 'comfort', 'crowned', 'evil', 'story', 'methinks', 'rehearse', 'rare', 'while', 'too', 'cure', 'catch', 'frown', 'oaths', 'said', 'both', 'gain', 'babe', 'grant', 'song', 'many', 'bosom', 'turns', 'smell', 'cheeks', 'increase', 'seek', 'add', 'groan', 'behind', 'tongues', 'fairest', 'weeds', 'common', 'air', 'april', 'report', 'sleep', 'dark', 'say', 'prime', 'rude', 'public', 'win', 'assured', 'told', 'picture', 'want', 'brass', 'done', 'lends', 'praises', 'unless', 'high', 'toil', 'numbers', 'dare', 'account', 'frame', 'holy', 'errors', 'lack', 'young', 'appear', 'free', 'respect', 'work', 'had', 'poet', 'touches', 'inward', 'shade', 'sum', 'tired', 'worms', 'jewel', 'count', 'second', 'farther', 'ne', 'clouds', 'wretched', 'forsworn', 'buds', 'contented', 'break', 'grown', 'believe', 'sovereign', 'red', 'substance', 'help', 'three', 'thief', 'forgot', 'given', 'grows', 'sense', 'removed', 'bare', 'abundance', 'wound', 'wherefore', 'knowing', 'unused', 'lays', 'shine', 'weary', 'hour', 'lo', 'happier', 'due', 'abuse', 'feel', 'repair', 'confounds', 'heir', 'grave', 'windows', 'effect', 'never', 'distilled', 'up', 'flame', 'pay', 'answer', 'son', 'decease', 'ear', 'weed', 'audit', 'conquest', 'heavenly', 'posterity', 'bath', 'widow', 'ocean', 'odor', 'hang', 'gilded', 'stone', 'quick', 'record', 'edge', 'appetite', 'today', 'feeding', 'tomorrow', 'shore', 'action', 'thrice', 'fool', 'control', 'character', 'wonder', 'same', 'main', 'stands', 'mock', 'home', 'cost', 'tend', 'pace', 'thence', 'side', 'pretty', 'approve', 'losing', 'flattery', 'shadows', 'clear', 'flesh', 'matter', 'foot', 'soon', 'water', 'took', 'sure', 'chest', 'prize', 'pass', 'greet', 'reasons', 'desert', 'cause', 'teach', 'wretch', 'speed', 'advantage', 'steel', 'weep', 'plague', 'despair', 'growth', 'color', 'sinful', 'constancy', 'confined', 'boy', 'proved', 'proof', 'receives', 'brand', 'minds', 'sway', 'taken', 'whereto', 'unkind', 'am', 'laid', 'wood', 'fingers', 'kiss', 'perjured', 'sworn', 'conscience', 'turn', 'vow', 'bonds', 'silence', 'simple', 'infection', 'bastard', 'mend', 'slander', 'suspect', 'flies', 'mourn', 'vile', 'line', 'thinking', 'birds', 'ground', 'pine', 'dial', 'eternity', 'acquaintance', 'got', 'double', 'works', 'fame', 'sail', 'anew', 'foes', 'injury', 'greater', 'blunt', 'tyrant', 'means', 'virtuous', 'can', 'drawn', 'filled', 'half', 'number', 'shake', 'complexion', 'course', 'burn', 'call', 'forbid', 'draw', 'women', 'wert', 'fixed', 'cover', 'bearing', 'gav', 'forget', 'perfect', 'burden', 'bloody', 'conceit', 'wear', 'height', 'keep', 'kept', 'murd', 'rous', 'fairer', 'she', 'brave', 'heat', 'borne', 'go', 'defense', 'takes', 'yourself', 'fall', 'seasons', 'brief', 'rain', 'princes', 'knowledge', 'constant', 'wouldst', 'nought', 'whereon', 'expressed', 'painter', 'cunning', 'basest', 'west', 'alack', 'masked', 'stain', 'didst', 'bears', 'offense', 'cross', 'thorns', 'amiss', 'sins', 'fault', 'lawful', 'plea', 'twain', 'remain', 'evermore', 'dearest', 'despised', 'vulgar', 'outlive', 'manners', 'torment', 'ride', 'style', 'favor', 'brought', 'triumph', 'thousand', 'razed', 'quite', 'duty', 'send', 'witness', 'wanting', 'star', 'haste', 'bed', 'travel', 'looking', 'each', 'either', 'blot', 'flatter', 'daily', 'friends', 'haply', 'expense', 'hearts', 'lover', 'moon']\n"
     ]
    }
   ],
   "source": [
    "print(word2vec_model.wv.index_to_key)"
   ]
  },
  {
   "cell_type": "code",
   "execution_count": 21,
   "id": "a11cd9b6-8427-4737-a81a-d1cdf5a8432c",
   "metadata": {},
   "outputs": [],
   "source": [
    "word2vec_model.save('./word2vec_shakespeare_sonnet.model')"
   ]
  },
  {
   "cell_type": "code",
   "execution_count": null,
   "id": "4cf4ef8b-e222-437d-8bf2-af998635e71c",
   "metadata": {},
   "outputs": [],
   "source": []
  }
 ],
 "metadata": {
  "kernelspec": {
   "display_name": "Python 3",
   "language": "python",
   "name": "python3"
  },
  "language_info": {
   "codemirror_mode": {
    "name": "ipython",
    "version": 3
   },
   "file_extension": ".py",
   "mimetype": "text/x-python",
   "name": "python",
   "nbconvert_exporter": "python",
   "pygments_lexer": "ipython3",
   "version": "3.7.3"
  }
 },
 "nbformat": 4,
 "nbformat_minor": 5
}
