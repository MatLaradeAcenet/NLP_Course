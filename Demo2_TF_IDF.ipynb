{
 "cells": [
  {
   "cell_type": "markdown",
   "metadata": {},
   "source": [
    "# Demo 2, Term Frequency - Inverse Document Frequency\n",
    "\n",
    "TF-IDF is similar to bag of words, however the final counts are divided by the number of documents in the corpus.\n",
    "\n",
    "It can be useful for identifying words that are not well represented by your corpus of data, that may need more samples provided."
   ]
  },
  {
   "cell_type": "code",
   "execution_count": 11,
   "metadata": {},
   "outputs": [],
   "source": [
    "from sklearn.feature_extraction.text import TfidfVectorizer\n",
    "import numpy as np\n",
    "import os\n",
    "try:\n",
    "    os.chdir(\"Sonnets\")\n",
    "except:\n",
    "    pass"
   ]
  },
  {
   "cell_type": "markdown",
   "metadata": {},
   "source": [
    "Use the same data-loader as before."
   ]
  },
  {
   "cell_type": "code",
   "execution_count": 12,
   "metadata": {},
   "outputs": [
    {
     "name": "stdout",
     "output_type": "stream",
     "text": [
      "shakespeares-sonnets_TXT_FolgerShakespeare.txt\n",
      "stopwords.txt\n"
     ]
    }
   ],
   "source": [
    "file_list = os.listdir('.')\n",
    "for file in file_list:\n",
    "    if file.startswith(\"Sonnet\") and file.endswith(\".txt\"):\n",
    "        pass\n",
    "    else:\n",
    "        print(file)\n",
    "        file_list.remove(file)\n",
    "file_list.sort()"
   ]
  },
  {
   "cell_type": "markdown",
   "metadata": {},
   "source": [
    "We must tell the TF-IDF vectorizer algorithm what kind of data to expect, in this case, we're using files, so we give the algorithm \"filename\" as an input."
   ]
  },
  {
   "cell_type": "code",
   "execution_count": 13,
   "metadata": {},
   "outputs": [],
   "source": [
    "tf_idf_algorithm = TfidfVectorizer(\"filename\")\n",
    "tfidf = tf_idf_algorithm.fit_transform(file_list)"
   ]
  },
  {
   "cell_type": "code",
   "execution_count": 14,
   "metadata": {},
   "outputs": [
    {
     "name": "stdout",
     "output_type": "stream",
     "text": [
      "<class 'scipy.sparse.csr.csr_matrix'>\n"
     ]
    }
   ],
   "source": [
    "print(type(tfidf))"
   ]
  },
  {
   "cell_type": "code",
   "execution_count": 15,
   "metadata": {},
   "outputs": [],
   "source": [
    "numpy_tfidf = tfidf.toarray()"
   ]
  },
  {
   "cell_type": "code",
   "execution_count": 16,
   "metadata": {},
   "outputs": [
    {
     "name": "stdout",
     "output_type": "stream",
     "text": [
      "(154, 3074)\n"
     ]
    }
   ],
   "source": [
    "print(numpy_tfidf.shape)"
   ]
  },
  {
   "cell_type": "code",
   "execution_count": 17,
   "metadata": {},
   "outputs": [
    {
     "name": "stdout",
     "output_type": "stream",
     "text": [
      "[0. 0. 0. ... 0. 0. 0.]\n",
      "(3074,)\n"
     ]
    }
   ],
   "source": [
    "first_sonnet = numpy_tfidf[0]\n",
    "print(first_sonnet)\n",
    "print(first_sonnet.shape)"
   ]
  },
  {
   "cell_type": "code",
   "execution_count": 18,
   "metadata": {},
   "outputs": [
    {
     "data": {
      "text/plain": [
       "(array([   7,  101,  137,  139,  197,  199,  210,  350,  362,  371,  376,\n",
       "         378,  442,  516,  520,  556,  570,  617,  669,  692,  771,  800,\n",
       "         812,  909,  919,  930,  964, 1003, 1020, 1081, 1085, 1091, 1108,\n",
       "        1143, 1167, 1262, 1270, 1290, 1360, 1365, 1512, 1515, 1588, 1593,\n",
       "        1631, 1644, 1731, 1738, 1757, 1791, 1798, 1801, 1825, 1902, 2168,\n",
       "        2183, 2262, 2315, 2438, 2442, 2515, 2562, 2604, 2616, 2617, 2618,\n",
       "        2628, 2636, 2644, 2648, 2669, 2670, 2677, 2685, 2697, 2897, 2908,\n",
       "        2937, 2993, 2996, 3023], dtype=int64),)"
      ]
     },
     "execution_count": 18,
     "metadata": {},
     "output_type": "execute_result"
    }
   ],
   "source": [
    "#Find non-zero\n",
    "np.nonzero(numpy_tfidf[0])"
   ]
  },
  {
   "cell_type": "code",
   "execution_count": 9,
   "metadata": {},
   "outputs": [
    {
     "name": "stdout",
     "output_type": "stream",
     "text": [
      "astonished\n"
     ]
    }
   ],
   "source": [
    "#Un-tokenize word\n",
    "print(tf_idf_algorithm.get_feature_names()[151])"
   ]
  },
  {
   "cell_type": "code",
   "execution_count": 23,
   "metadata": {},
   "outputs": [
    {
     "name": "stdout",
     "output_type": "stream",
     "text": [
      "(array([   7,  101,  137,  139,  197,  199,  210,  350,  362,  371,  376,\n",
      "        378,  442,  516,  520,  556,  570,  617,  669,  692,  771,  800,\n",
      "        812,  909,  919,  930,  964, 1003, 1020, 1081, 1085, 1091, 1108,\n",
      "       1143, 1167, 1262, 1270, 1290, 1360, 1365, 1512, 1515, 1588, 1593,\n",
      "       1631, 1644, 1731, 1738, 1757, 1791, 1798, 1801, 1825, 1902, 2168,\n",
      "       2183, 2262, 2315, 2438, 2442, 2515, 2562, 2604, 2616, 2617, 2618,\n",
      "       2628, 2636, 2644, 2648, 2669, 2670, 2677, 2685, 2697, 2897, 2908,\n",
      "       2937, 2993, 2996, 3023], dtype=int64),)\n",
      "(154,)\n"
     ]
    }
   ],
   "source": [
    "#print out the tf-idf value for a word\n",
    "print(np.nonzero(numpy_tfidf[0]))"
   ]
  },
  {
   "cell_type": "code",
   "execution_count": 27,
   "metadata": {},
   "outputs": [
    {
     "name": "stdout",
     "output_type": "stream",
     "text": [
      "(154,)\n",
      "[0.11337761 0.         0.         0.         0.         0.\n",
      " 0.         0.         0.         0.         0.         0.\n",
      " 0.         0.         0.         0.         0.         0.\n",
      " 0.         0.         0.         0.         0.11211088 0.\n",
      " 0.         0.         0.         0.         0.         0.\n",
      " 0.         0.         0.         0.         0.         0.\n",
      " 0.11779593 0.         0.         0.         0.         0.\n",
      " 0.         0.         0.         0.         0.         0.\n",
      " 0.         0.         0.         0.         0.         0.\n",
      " 0.         0.         0.         0.         0.         0.\n",
      " 0.         0.         0.         0.         0.         0.\n",
      " 0.         0.         0.         0.         0.         0.\n",
      " 0.         0.         0.         0.         0.         0.\n",
      " 0.         0.         0.         0.         0.         0.\n",
      " 0.         0.         0.         0.         0.         0.\n",
      " 0.         0.         0.         0.         0.         0.\n",
      " 0.         0.         0.         0.         0.         0.\n",
      " 0.         0.         0.         0.         0.         0.\n",
      " 0.         0.         0.         0.         0.         0.\n",
      " 0.         0.         0.         0.         0.         0.\n",
      " 0.         0.         0.         0.         0.         0.\n",
      " 0.         0.         0.         0.         0.         0.\n",
      " 0.         0.         0.09275451 0.         0.         0.\n",
      " 0.         0.         0.         0.         0.         0.\n",
      " 0.         0.         0.         0.         0.         0.\n",
      " 0.         0.         0.         0.        ]\n",
      "0.4360389257241719\n"
     ]
    }
   ],
   "source": [
    "print(numpy_tfidf[:,7].shape)\n",
    "print(numpy_tfidf[:,7])\n",
    "print(np.sum(numpy_tfidf[:,7]))"
   ]
  },
  {
   "cell_type": "code",
   "execution_count": 31,
   "metadata": {},
   "outputs": [],
   "source": [
    "TF_IDF = []\n",
    "for i in range(0,153):\n",
    "    TF_IDF.append(np.sum(numpy_tfidf[:,i]))"
   ]
  },
  {
   "cell_type": "code",
   "execution_count": 35,
   "metadata": {},
   "outputs": [
    {
     "name": "stdout",
     "output_type": "stream",
     "text": [
      "0.10969418531007252\n",
      "52\n"
     ]
    }
   ],
   "source": [
    "print(min(TF_IDF))\n",
    "print(TF_IDF.index(min(TF_IDF)))"
   ]
  },
  {
   "cell_type": "code",
   "execution_count": 36,
   "metadata": {},
   "outputs": [
    {
     "name": "stdout",
     "output_type": "stream",
     "text": [
      "afar\n"
     ]
    }
   ],
   "source": [
    "print(tf_idf_algorithm.get_feature_names()[52])"
   ]
  },
  {
   "cell_type": "code",
   "execution_count": 37,
   "metadata": {},
   "outputs": [
    {
     "name": "stdout",
     "output_type": "stream",
     "text": [
      "[0.         0.         0.         0.         0.         0.\n",
      " 0.         0.         0.         0.         0.         0.\n",
      " 0.         0.         0.         0.         0.         0.\n",
      " 0.         0.         0.         0.         0.         0.\n",
      " 0.         0.         0.         0.         0.         0.\n",
      " 0.         0.         0.         0.         0.         0.\n",
      " 0.         0.         0.         0.         0.         0.\n",
      " 0.         0.         0.         0.         0.         0.\n",
      " 0.         0.         0.         0.         0.         0.\n",
      " 0.         0.         0.         0.         0.         0.\n",
      " 0.         0.         0.         0.         0.         0.\n",
      " 0.         0.         0.         0.         0.         0.\n",
      " 0.         0.         0.         0.         0.         0.\n",
      " 0.         0.         0.         0.         0.         0.\n",
      " 0.         0.         0.         0.         0.         0.\n",
      " 0.         0.         0.         0.         0.         0.\n",
      " 0.         0.         0.         0.         0.         0.\n",
      " 0.         0.         0.         0.         0.         0.\n",
      " 0.         0.         0.         0.         0.         0.\n",
      " 0.         0.         0.         0.         0.         0.\n",
      " 0.         0.         0.         0.         0.         0.\n",
      " 0.         0.         0.         0.         0.         0.\n",
      " 0.         0.         0.         0.         0.         0.\n",
      " 0.         0.         0.         0.         0.10969419 0.\n",
      " 0.         0.         0.         0.         0.         0.\n",
      " 0.         0.         0.         0.        ]\n"
     ]
    }
   ],
   "source": [
    "print(numpy_tfidf[:,52])"
   ]
  },
  {
   "cell_type": "code",
   "execution_count": null,
   "metadata": {},
   "outputs": [],
   "source": []
  }
 ],
 "metadata": {
  "kernelspec": {
   "display_name": "Python 3",
   "language": "python",
   "name": "python3"
  },
  "language_info": {
   "codemirror_mode": {
    "name": "ipython",
    "version": 3
   },
   "file_extension": ".py",
   "mimetype": "text/x-python",
   "name": "python",
   "nbconvert_exporter": "python",
   "pygments_lexer": "ipython3",
   "version": "3.7.3"
  }
 },
 "nbformat": 4,
 "nbformat_minor": 4
}
