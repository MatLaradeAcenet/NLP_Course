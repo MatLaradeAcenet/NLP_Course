{
 "cells": [
  {
   "cell_type": "code",
   "execution_count": 20,
   "id": "4bcd196e-c1b8-4a63-9aa7-81c6e3447ae3",
   "metadata": {},
   "outputs": [
    {
     "name": "stdout",
     "output_type": "stream",
     "text": [
      "shakespeares-sonnets_TXT_FolgerShakespeare.txt\n",
      "stopwords.txt\n"
     ]
    }
   ],
   "source": [
    "import os\n",
    "from gensim import corpora\n",
    "from gensim.utils import simple_preprocess\n",
    "from gensim.models import Word2Vec\n",
    "\n",
    "try:\n",
    "    os.chdir(\"Sonnets\")\n",
    "except:\n",
    "    pass\n",
    "\n",
    "file_list = os.listdir('.')\n",
    "for file in file_list:\n",
    "    if file.startswith(\"Sonnet\") and file.endswith(\".txt\"):\n",
    "        pass\n",
    "    else:\n",
    "        print(file)\n",
    "        file_list.remove(file)\n",
    "file_list.sort()"
   ]
  },
  {
   "cell_type": "code",
   "execution_count": 21,
   "id": "d6181de1-f297-4115-a958-7095b787ecd0",
   "metadata": {},
   "outputs": [],
   "source": [
    "corpus = []\n",
    "for file in sorted(file_list):\n",
    "    corpus.append(open(file, 'r').read())"
   ]
  },
  {
   "cell_type": "code",
   "execution_count": 22,
   "id": "1ae05146-c147-48d3-a82e-db09f3a28388",
   "metadata": {},
   "outputs": [
    {
     "name": "stdout",
     "output_type": "stream",
     "text": [
      "From fairest creatures we desire increase,\n",
      "That thereby beauty's rose might never die,\n",
      "But, as the riper should by time decease,\n",
      "His tender heir might bear his memory.\n",
      "But thou, contracted to thine own bright eyes,\n",
      "Feed'st thy light's flame with self-substantial fuel,\n",
      "Making a famine where abundance lies,\n",
      "Thyself thy foe, to thy sweet self too cruel.\n",
      "Thou that art now the world's fresh ornament\n",
      "And only herald to the gaudy spring\n",
      "Within thine own bud buriest thy content\n",
      "And, tender churl, mak'st waste in niggarding.\n",
      "  Pity the world, or else this glutton be--\n",
      "  To eat the world's due, by the grave and thee.\n",
      "\n"
     ]
    }
   ],
   "source": [
    "#check and make sure it's working right before we mess with anything\n",
    "print(corpus[0])"
   ]
  },
  {
   "cell_type": "code",
   "execution_count": 23,
   "id": "8a811a8f-3083-4ed9-b02f-23a68bd65296",
   "metadata": {},
   "outputs": [],
   "source": [
    "preprocessed_corpus = []\n",
    "for index, sonnet in enumerate(corpus):\n",
    "    preprocessed_corpus.append(simple_preprocess(sonnet))"
   ]
  },
  {
   "cell_type": "code",
   "execution_count": 24,
   "id": "9bf242c8-b0fa-4e13-a638-86a1de78471d",
   "metadata": {},
   "outputs": [
    {
     "name": "stdout",
     "output_type": "stream",
     "text": [
      "['from', 'fairest', 'creatures', 'we', 'desire', 'increase', 'that', 'thereby', 'beauty', 'rose', 'might', 'never', 'die', 'but', 'as', 'the', 'riper', 'should', 'by', 'time', 'decease', 'his', 'tender', 'heir', 'might', 'bear', 'his', 'memory', 'but', 'thou', 'contracted', 'to', 'thine', 'own', 'bright', 'eyes', 'feed', 'st', 'thy', 'light', 'flame', 'with', 'self', 'substantial', 'fuel', 'making', 'famine', 'where', 'abundance', 'lies', 'thyself', 'thy', 'foe', 'to', 'thy', 'sweet', 'self', 'too', 'cruel', 'thou', 'that', 'art', 'now', 'the', 'world', 'fresh', 'ornament', 'and', 'only', 'herald', 'to', 'the', 'gaudy', 'spring', 'within', 'thine', 'own', 'bud', 'buriest', 'thy', 'content', 'and', 'tender', 'churl', 'mak', 'st', 'waste', 'in', 'niggarding', 'pity', 'the', 'world', 'or', 'else', 'this', 'glutton', 'be', 'to', 'eat', 'the', 'world', 'due', 'by', 'the', 'grave', 'and', 'thee']\n"
     ]
    }
   ],
   "source": [
    "print(preprocessed_corpus[0])"
   ]
  },
  {
   "cell_type": "code",
   "execution_count": 25,
   "id": "ed4607c7-780b-443b-a7b9-0eb64001c5f1",
   "metadata": {},
   "outputs": [
    {
     "name": "stdout",
     "output_type": "stream",
     "text": [
      "From fairest creatures we desire increase,\n",
      "That thereby beauty's rose might never die,\n",
      "But, as the riper should by time decease,\n",
      "His tender heir might bear his memory.\n",
      "But thou, contracted to thine own bright eyes,\n",
      "Feed'st thy light's flame with self-substantial fuel,\n",
      "Making a famine where abundance lies,\n",
      "Thyself thy foe, to thy sweet self too cruel.\n",
      "Thou that art now the world's fresh ornament\n",
      "And only herald to the gaudy spring\n",
      "Within thine own bud buriest thy content\n",
      "And, tender churl, mak'st waste in niggarding.\n",
      "  Pity the world, or else this glutton be--\n",
      "  To eat the world's due, by the grave and thee.\n",
      "\n"
     ]
    }
   ],
   "source": [
    "Sonnet1 = open('Sonnet_001.txt', 'r').read()\n",
    "print(Sonnet1)"
   ]
  },
  {
   "cell_type": "code",
   "execution_count": 26,
   "id": "af6fd5c8-151d-44ea-ae07-1604f81edebc",
   "metadata": {},
   "outputs": [],
   "source": [
    "\"\"\"\n",
    "A dictionary is a computationally efficient collection of associated values.\n",
    "It's more complicated than that, but for the purposes of this talk, \n",
    "that's all that you need to know.\n",
    "See: https://www.w3schools.com/python/python_dictionaries.asp, https://www.youtube.com/watch?v=daefaLgNkw0\n",
    "\"\"\"\n",
    "dictionary = corpora.Dictionary(preprocessed_corpus)"
   ]
  },
  {
   "cell_type": "code",
   "execution_count": 27,
   "id": "998671df-5d2b-4355-9709-0956aa642a00",
   "metadata": {},
   "outputs": [
    {
     "name": "stdout",
     "output_type": "stream",
     "text": [
      "[0, 1, 2, 3, 4, 5, 6, 7, 8, 9]\n"
     ]
    }
   ],
   "source": [
    "#print out the keys in the dictionary\n",
    "print(dictionary.keys()[0:10])"
   ]
  },
  {
   "cell_type": "code",
   "execution_count": 28,
   "id": "0a5c095b-ecbe-4b90-a9eb-35517a043a23",
   "metadata": {},
   "outputs": [
    {
     "name": "stdout",
     "output_type": "stream",
     "text": [
      "abundance\n",
      "and\n",
      "art\n",
      "as\n",
      "be\n",
      "bear\n",
      "beauty\n",
      "bright\n",
      "bud\n",
      "buriest\n"
     ]
    }
   ],
   "source": [
    "#this is a routine way to cycle information out of a dictionary\n",
    "for key in range(10):\n",
    "    print(dictionary[key])"
   ]
  },
  {
   "cell_type": "code",
   "execution_count": 39,
   "id": "c413c621-a01f-45e1-a4bb-a9a4702dccc7",
   "metadata": {},
   "outputs": [
    {
     "name": "stdout",
     "output_type": "stream",
     "text": [
      "Wall time: 173 ms\n"
     ]
    },
    {
     "data": {
      "text/plain": [
       "(145190, 254880)"
      ]
     },
     "execution_count": 39,
     "metadata": {},
     "output_type": "execute_result"
    }
   ],
   "source": [
    "%%time\n",
    "word2vec_model = Word2Vec(sentences=preprocessed_corpus, min_count=3)\n",
    "word2vec_model.train(corpus_iterable=preprocessed_corpus, total_examples=word2vec_model.corpus_count, epochs=15)"
   ]
  },
  {
   "cell_type": "code",
   "execution_count": 40,
   "id": "45ec5654-b44d-4213-8f95-d20d754a8608",
   "metadata": {},
   "outputs": [
    {
     "name": "stdout",
     "output_type": "stream",
     "text": [
      "Word2Vec(vocab=866, vector_size=100, alpha=0.025)\n"
     ]
    }
   ],
   "source": [
    "print(word2vec_model)"
   ]
  },
  {
   "cell_type": "code",
   "execution_count": 41,
   "id": "b02f20c0-e526-446e-95d6-fe662d00a777",
   "metadata": {},
   "outputs": [
    {
     "ename": "TypeError",
     "evalue": "unsupported operand type(s) for +: 'int' and 'str'",
     "output_type": "error",
     "traceback": [
      "\u001b[1;31m---------------------------------------------------------------------------\u001b[0m",
      "\u001b[1;31mTypeError\u001b[0m                                 Traceback (most recent call last)",
      "\u001b[1;32m<ipython-input-41-ced83a330fb5>\u001b[0m in \u001b[0;36m<module>\u001b[1;34m\u001b[0m\n\u001b[1;32m----> 1\u001b[1;33m \u001b[0mword2vec_model\u001b[0m\u001b[1;33m.\u001b[0m\u001b[0mbuild_vocab_from_freq\u001b[0m\u001b[1;33m(\u001b[0m\u001b[0mdictionary\u001b[0m\u001b[1;33m)\u001b[0m\u001b[1;33m\u001b[0m\u001b[1;33m\u001b[0m\u001b[0m\n\u001b[0m",
      "\u001b[1;32m~\\Anaconda3\\lib\\site-packages\\gensim\\models\\word2vec.py\u001b[0m in \u001b[0;36mbuild_vocab_from_freq\u001b[1;34m(self, word_freq, keep_raw_vocab, corpus_count, trim_rule, update)\u001b[0m\n\u001b[0;32m    524\u001b[0m         logger.info(\n\u001b[0;32m    525\u001b[0m             \u001b[1;34m\"collected %i different raw word, with total frequency of %i\"\u001b[0m\u001b[1;33m,\u001b[0m\u001b[1;33m\u001b[0m\u001b[1;33m\u001b[0m\u001b[0m\n\u001b[1;32m--> 526\u001b[1;33m             \u001b[0mlen\u001b[0m\u001b[1;33m(\u001b[0m\u001b[0mraw_vocab\u001b[0m\u001b[1;33m)\u001b[0m\u001b[1;33m,\u001b[0m \u001b[0msum\u001b[0m\u001b[1;33m(\u001b[0m\u001b[0mraw_vocab\u001b[0m\u001b[1;33m.\u001b[0m\u001b[0mvalues\u001b[0m\u001b[1;33m(\u001b[0m\u001b[1;33m)\u001b[0m\u001b[1;33m)\u001b[0m\u001b[1;33m,\u001b[0m\u001b[1;33m\u001b[0m\u001b[1;33m\u001b[0m\u001b[0m\n\u001b[0m\u001b[0;32m    527\u001b[0m         )\n\u001b[0;32m    528\u001b[0m \u001b[1;33m\u001b[0m\u001b[0m\n",
      "\u001b[1;31mTypeError\u001b[0m: unsupported operand type(s) for +: 'int' and 'str'"
     ]
    }
   ],
   "source": [
    "word2vec_model.wv.most_similar(\"her\")"
   ]
  },
  {
   "cell_type": "code",
   "execution_count": 46,
   "id": "baff713e-cb96-462b-91c2-1f1c8b8ba4e1",
   "metadata": {},
   "outputs": [
    {
     "data": {
      "text/plain": [
       "[('even', 0.9991260170936584),\n",
       " ('we', 0.9990231394767761),\n",
       " ('whose', 0.9989994764328003),\n",
       " ('sun', 0.9989936947822571),\n",
       " ('face', 0.9989826679229736),\n",
       " ('come', 0.9989339709281921),\n",
       " ('had', 0.9989339113235474),\n",
       " ('nature', 0.9989185333251953),\n",
       " ('age', 0.9989174604415894),\n",
       " ('past', 0.9989165663719177)]"
      ]
     },
     "execution_count": 46,
     "metadata": {},
     "output_type": "execute_result"
    }
   ],
   "source": [
    "word2vec_model.wv.most_similar(\"black\")"
   ]
  },
  {
   "cell_type": "code",
   "execution_count": 48,
   "id": "6dca5a47-beeb-4333-b35b-96d81e416084",
   "metadata": {},
   "outputs": [
    {
     "data": {
      "text/plain": [
       "array([-1.87490448e-01,  2.38148123e-01,  2.74810530e-02,  2.18541007e-02,\n",
       "        5.54942377e-02, -4.03154999e-01,  9.43641067e-02,  5.63585043e-01,\n",
       "       -2.69037902e-01, -1.83095038e-01, -1.42040148e-01, -2.94745266e-01,\n",
       "       -1.11255042e-01,  1.63643435e-01,  1.82283297e-01, -1.15572952e-01,\n",
       "       -6.49510473e-02, -9.94824395e-02, -1.19072504e-01, -4.82136041e-01,\n",
       "        6.38322011e-02,  7.10304230e-02,  2.63451129e-01, -1.29410565e-01,\n",
       "       -1.37358963e-01, -3.07640377e-02, -7.26018101e-02, -1.97384000e-01,\n",
       "       -4.89582829e-02,  8.91580805e-02,  2.21277058e-01,  4.53626795e-04,\n",
       "        1.31929651e-01, -2.40109637e-01, -1.22247547e-01,  3.28468204e-01,\n",
       "       -3.09080142e-03, -1.79480597e-01, -9.45244357e-02, -4.08240318e-01,\n",
       "        3.12137455e-02, -2.15761200e-01, -8.79199505e-02,  8.97662062e-03,\n",
       "        1.71687797e-01, -1.29497468e-01, -1.08626053e-01, -2.86607444e-02,\n",
       "        1.53360903e-01,  1.04048498e-01,  9.47120413e-02, -2.93473959e-01,\n",
       "       -4.45773005e-02, -5.67009449e-02, -1.16141081e-01,  1.18562974e-01,\n",
       "        1.15228772e-01, -8.91895220e-02, -2.35873863e-01,  1.28759265e-01,\n",
       "        6.47560880e-02,  7.39836991e-02,  1.20414749e-01, -1.10315993e-01,\n",
       "       -2.55345792e-01,  2.68851459e-01,  1.84240103e-01,  2.89745778e-01,\n",
       "       -5.01719713e-01,  3.36190403e-01, -8.03775713e-02,  1.72164544e-01,\n",
       "        2.33311087e-01,  1.04930148e-01,  1.55244082e-01,  1.23968579e-01,\n",
       "       -1.45384250e-02, -4.46422510e-02, -1.95094287e-01,  4.39490937e-02,\n",
       "       -1.47840634e-01, -4.40081768e-02, -1.45680919e-01,  2.13732734e-01,\n",
       "       -8.36969465e-02, -2.17506513e-02,  7.08490312e-02,  2.06145212e-01,\n",
       "        2.57691145e-01,  9.54170749e-02,  3.24697733e-01,  1.29857689e-01,\n",
       "       -1.04843579e-01, -4.60394938e-03,  4.17959332e-01,  2.49329209e-01,\n",
       "        1.18400745e-01, -2.96957284e-01,  2.12329403e-02, -1.04817911e-03],\n",
       "      dtype=float32)"
      ]
     },
     "execution_count": 48,
     "metadata": {},
     "output_type": "execute_result"
    }
   ],
   "source": [
    "word2vec_model.wv[\"black\"]"
   ]
  },
  {
   "cell_type": "code",
   "execution_count": null,
   "id": "e0975e5a-42cb-4d14-9792-948fe23aa907",
   "metadata": {},
   "outputs": [],
   "source": []
  }
 ],
 "metadata": {
  "kernelspec": {
   "display_name": "Python 3",
   "language": "python",
   "name": "python3"
  },
  "language_info": {
   "codemirror_mode": {
    "name": "ipython",
    "version": 3
   },
   "file_extension": ".py",
   "mimetype": "text/x-python",
   "name": "python",
   "nbconvert_exporter": "python",
   "pygments_lexer": "ipython3",
   "version": "3.7.3"
  }
 },
 "nbformat": 4,
 "nbformat_minor": 5
}
