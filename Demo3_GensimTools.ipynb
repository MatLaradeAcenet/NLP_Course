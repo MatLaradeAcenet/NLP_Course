{
 "cells": [
  {
   "cell_type": "code",
   "execution_count": 1,
   "id": "4bcd196e-c1b8-4a63-9aa7-81c6e3447ae3",
   "metadata": {},
   "outputs": [
    {
     "data": {
      "text/plain": [
       "'shakespeares-sonnets_TXT_FolgerShakespeare (1).txt'"
      ]
     },
     "execution_count": 1,
     "metadata": {},
     "output_type": "execute_result"
    }
   ],
   "source": [
    "import os\n",
    "from gensim import corpora\n",
    "from gensim.utils import simple_preprocess\n",
    "from gensim.models import Word2Vec\n",
    "\n",
    "try:\n",
    "    os.chdir(\"Sonnets\")\n",
    "except:\n",
    "    pass\n",
    "file_list = os.listdir('.')\n",
    "file_list.pop(0)"
   ]
  },
  {
   "cell_type": "code",
   "execution_count": 2,
   "id": "d6181de1-f297-4115-a958-7095b787ecd0",
   "metadata": {},
   "outputs": [],
   "source": [
    "corpus = []\n",
    "for file in sorted(file_list):\n",
    "    corpus.append(open(file, 'r').read())"
   ]
  },
  {
   "cell_type": "code",
   "execution_count": 3,
   "id": "1ae05146-c147-48d3-a82e-db09f3a28388",
   "metadata": {},
   "outputs": [
    {
     "name": "stdout",
     "output_type": "stream",
     "text": [
      "6\n",
      "\n",
      "Then let not winter's ragged hand deface\n",
      "In thee thy summer ere thou be distilled.\n",
      "Make sweet some vial; treasure thou some place\n",
      "With beauty's treasure ere it be self-killed.\n",
      "That use is not forbidden usury\n",
      "Which happies those that pay the willing loan;\n",
      "That's for thyself to breed another thee,\n",
      "Or ten times happier, be it ten for one.\n",
      "Ten times thyself were happier than thou art\n",
      "If ten of thine ten times refigured thee;\n",
      "Then what could death do if thou shouldst depart,\n",
      "Leaving thee living in posterity?\n",
      "  Be not self-willed, for thou art much too fair\n",
      "  To be death's conquest and make worms thine heir.\n",
      "\n",
      "\n"
     ]
    }
   ],
   "source": [
    "#check and make sure it's working right before we mess with anything\n",
    "print(corpus[5])"
   ]
  },
  {
   "cell_type": "code",
   "execution_count": 4,
   "id": "8a811a8f-3083-4ed9-b02f-23a68bd65296",
   "metadata": {},
   "outputs": [],
   "source": [
    "preprocessed_corpus = []\n",
    "for index, sonnet in enumerate(corpus):\n",
    "    preprocessed_corpus.append(simple_preprocess(sonnet))"
   ]
  },
  {
   "cell_type": "code",
   "execution_count": 5,
   "id": "9bf242c8-b0fa-4e13-a638-86a1de78471d",
   "metadata": {},
   "outputs": [
    {
     "name": "stdout",
     "output_type": "stream",
     "text": [
      "['from', 'fairest', 'creatures', 'we', 'desire', 'increase', 'that', 'thereby', 'beauty', 'rose', 'might', 'never', 'die', 'but', 'as', 'the', 'riper', 'should', 'by', 'time', 'decease', 'his', 'tender', 'heir', 'might', 'bear', 'his', 'memory', 'but', 'thou', 'contracted', 'to', 'thine', 'own', 'bright', 'eyes', 'feed', 'st', 'thy', 'light', 'flame', 'with', 'self', 'substantial', 'fuel', 'making', 'famine', 'where', 'abundance', 'lies', 'thyself', 'thy', 'foe', 'to', 'thy', 'sweet', 'self', 'too', 'cruel', 'thou', 'that', 'art', 'now', 'the', 'world', 'fresh', 'ornament', 'and', 'only', 'herald', 'to', 'the', 'gaudy', 'spring', 'within', 'thine', 'own', 'bud', 'buriest', 'thy', 'content', 'and', 'tender', 'churl', 'mak', 'st', 'waste', 'in', 'niggarding', 'pity', 'the', 'world', 'or', 'else', 'this', 'glutton', 'be', 'to', 'eat', 'the', 'world', 'due', 'by', 'the', 'grave', 'and', 'thee']\n"
     ]
    }
   ],
   "source": [
    "print(preprocessed_corpus[0])"
   ]
  },
  {
   "cell_type": "code",
   "execution_count": 6,
   "id": "ed4607c7-780b-443b-a7b9-0eb64001c5f1",
   "metadata": {},
   "outputs": [
    {
     "name": "stdout",
     "output_type": "stream",
     "text": [
      "1\n",
      "\n",
      "From fairest creatures we desire increase,\n",
      "That thereby beauty's rose might never die,\n",
      "But, as the riper should by time decease,\n",
      "His tender heir might bear his memory.\n",
      "But thou, contracted to thine own bright eyes,\n",
      "Feed'st thy light's flame with self-substantial fuel,\n",
      "Making a famine where abundance lies,\n",
      "Thyself thy foe, to thy sweet self too cruel.\n",
      "Thou that art now the world's fresh ornament\n",
      "And only herald to the gaudy spring\n",
      "Within thine own bud buriest thy content\n",
      "And, tender churl, mak'st waste in niggarding.\n",
      "  Pity the world, or else this glutton be--\n",
      "  To eat the world's due, by the grave and thee.\n",
      "\n",
      "\n"
     ]
    }
   ],
   "source": [
    "Sonnet1 = open('Sonnet_001.txt', 'r').read()\n",
    "print(Sonnet1)"
   ]
  },
  {
   "cell_type": "code",
   "execution_count": 12,
   "id": "af6fd5c8-151d-44ea-ae07-1604f81edebc",
   "metadata": {},
   "outputs": [],
   "source": [
    "\"\"\"\n",
    "A dictionary is a computationally efficient collection of associated values.\n",
    "It's more complicated than that, but for the purposes of this talk, \n",
    "that's all that you need to know.\n",
    "See: https://www.w3schools.com/python/python_dictionaries.asp, https://www.youtube.com/watch?v=daefaLgNkw0\n",
    "\"\"\"\n",
    "dictionary = corpora.Dictionary(preprocessed_corpus)"
   ]
  },
  {
   "cell_type": "code",
   "execution_count": 10,
   "id": "998671df-5d2b-4355-9709-0956aa642a00",
   "metadata": {},
   "outputs": [
    {
     "name": "stdout",
     "output_type": "stream",
     "text": [
      "[0, 1, 2, 3, 4, 5, 6, 7, 8, 9]\n"
     ]
    }
   ],
   "source": [
    "#print out the keys in the dictionary\n",
    "print(dictionary.keys()[0:10])"
   ]
  },
  {
   "cell_type": "code",
   "execution_count": 11,
   "id": "0a5c095b-ecbe-4b90-a9eb-35517a043a23",
   "metadata": {},
   "outputs": [
    {
     "name": "stdout",
     "output_type": "stream",
     "text": [
      "abundance\n",
      "and\n",
      "art\n",
      "as\n",
      "be\n",
      "bear\n",
      "beauty\n",
      "bright\n",
      "bud\n",
      "buriest\n"
     ]
    }
   ],
   "source": [
    "#this is a routine way to cycle information out of a dictionary\n",
    "for key in range(10):\n",
    "    print(dictionary[key])"
   ]
  },
  {
   "cell_type": "code",
   "execution_count": 71,
   "id": "c413c621-a01f-45e1-a4bb-a9a4702dccc7",
   "metadata": {},
   "outputs": [],
   "source": [
    "word2vec_model = Word2Vec(sentences=preprocessed_corpus, min_count=3)"
   ]
  },
  {
   "cell_type": "code",
   "execution_count": 72,
   "id": "45ec5654-b44d-4213-8f95-d20d754a8608",
   "metadata": {},
   "outputs": [
    {
     "name": "stdout",
     "output_type": "stream",
     "text": [
      "Word2Vec(vocab=866, vector_size=100, alpha=0.025)\n"
     ]
    }
   ],
   "source": [
    "print(word2vec_model)"
   ]
  },
  {
   "cell_type": "code",
   "execution_count": 75,
   "id": "b02f20c0-e526-446e-95d6-fe662d00a777",
   "metadata": {},
   "outputs": [
    {
     "ename": "TypeError",
     "evalue": "object of type 'int' has no len()",
     "output_type": "error",
     "traceback": [
      "\u001b[1;31m---------------------------------------------------------------------------\u001b[0m",
      "\u001b[1;31mTypeError\u001b[0m                                 Traceback (most recent call last)",
      "\u001b[1;32m<ipython-input-75-76512d422e77>\u001b[0m in \u001b[0;36m<module>\u001b[1;34m\u001b[0m\n\u001b[1;32m----> 1\u001b[1;33m \u001b[0mword2vec_model\u001b[0m\u001b[1;33m.\u001b[0m\u001b[0mbuild_vocab_from_freq\u001b[0m\u001b[1;33m(\u001b[0m\u001b[1;36m5\u001b[0m\u001b[1;33m)\u001b[0m\u001b[1;33m\u001b[0m\u001b[1;33m\u001b[0m\u001b[0m\n\u001b[0m",
      "\u001b[1;32m~\\Anaconda3\\lib\\site-packages\\gensim\\models\\word2vec.py\u001b[0m in \u001b[0;36mbuild_vocab_from_freq\u001b[1;34m(self, word_freq, keep_raw_vocab, corpus_count, trim_rule, update)\u001b[0m\n\u001b[0;32m    524\u001b[0m         logger.info(\n\u001b[0;32m    525\u001b[0m             \u001b[1;34m\"collected %i different raw word, with total frequency of %i\"\u001b[0m\u001b[1;33m,\u001b[0m\u001b[1;33m\u001b[0m\u001b[1;33m\u001b[0m\u001b[0m\n\u001b[1;32m--> 526\u001b[1;33m             \u001b[0mlen\u001b[0m\u001b[1;33m(\u001b[0m\u001b[0mraw_vocab\u001b[0m\u001b[1;33m)\u001b[0m\u001b[1;33m,\u001b[0m \u001b[0msum\u001b[0m\u001b[1;33m(\u001b[0m\u001b[0mraw_vocab\u001b[0m\u001b[1;33m.\u001b[0m\u001b[0mvalues\u001b[0m\u001b[1;33m(\u001b[0m\u001b[1;33m)\u001b[0m\u001b[1;33m)\u001b[0m\u001b[1;33m,\u001b[0m\u001b[1;33m\u001b[0m\u001b[1;33m\u001b[0m\u001b[0m\n\u001b[0m\u001b[0;32m    527\u001b[0m         )\n\u001b[0;32m    528\u001b[0m \u001b[1;33m\u001b[0m\u001b[0m\n",
      "\u001b[1;31mTypeError\u001b[0m: object of type 'int' has no len()"
     ]
    }
   ],
   "source": [
    "word2vec_model.build_vocab_from_freq(5)"
   ]
  },
  {
   "cell_type": "code",
   "execution_count": 69,
   "id": "baff713e-cb96-462b-91c2-1f1c8b8ba4e1",
   "metadata": {},
   "outputs": [
    {
     "name": "stdout",
     "output_type": "stream",
     "text": [
      "None\n"
     ]
    }
   ],
   "source": [
    "print(table)"
   ]
  },
  {
   "cell_type": "code",
   "execution_count": null,
   "id": "6dca5a47-beeb-4333-b35b-96d81e416084",
   "metadata": {},
   "outputs": [],
   "source": []
  }
 ],
 "metadata": {
  "kernelspec": {
   "display_name": "Python 3",
   "language": "python",
   "name": "python3"
  },
  "language_info": {
   "codemirror_mode": {
    "name": "ipython",
    "version": 3
   },
   "file_extension": ".py",
   "mimetype": "text/x-python",
   "name": "python",
   "nbconvert_exporter": "python",
   "pygments_lexer": "ipython3",
   "version": "3.7.3"
  }
 },
 "nbformat": 4,
 "nbformat_minor": 5
}
