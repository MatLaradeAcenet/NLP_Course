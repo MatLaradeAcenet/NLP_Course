{
 "cells": [
  {
   "cell_type": "code",
   "execution_count": 1,
   "id": "4bcd196e-c1b8-4a63-9aa7-81c6e3447ae3",
   "metadata": {},
   "outputs": [
    {
     "name": "stdout",
     "output_type": "stream",
     "text": [
      "shakespeares-sonnets_TXT_FolgerShakespeare.txt\n",
      "stopwords.txt\n"
     ]
    }
   ],
   "source": [
    "import os\n",
    "from gensim import corpora\n",
    "from gensim.utils import simple_preprocess\n",
    "from gensim.parsing.preprocessing import STOPWORDS, remove_stopwords\n",
    "from gensim.models import Word2Vec\n",
    "import numpy as np\n",
    "\n",
    "try:\n",
    "    os.chdir(\"Sonnets\")\n",
    "except:\n",
    "    pass\n",
    "\n",
    "file_list = os.listdir('.')\n",
    "for file in file_list:\n",
    "    if file.startswith(\"Sonnet\") and file.endswith(\".txt\"):\n",
    "        pass\n",
    "    else:\n",
    "        print(file)\n",
    "        file_list.remove(file)\n",
    "file_list.sort()"
   ]
  },
  {
   "cell_type": "code",
   "execution_count": 2,
   "id": "d6181de1-f297-4115-a958-7095b787ecd0",
   "metadata": {},
   "outputs": [],
   "source": [
    "corpus = []\n",
    "for file in sorted(file_list):\n",
    "    corpus.append(open(file, 'r').read())"
   ]
  },
  {
   "cell_type": "code",
   "execution_count": 3,
   "id": "1ae05146-c147-48d3-a82e-db09f3a28388",
   "metadata": {},
   "outputs": [
    {
     "name": "stdout",
     "output_type": "stream",
     "text": [
      "From fairest creatures we desire increase,\n",
      "That thereby beauty's rose might never die,\n",
      "But, as the riper should by time decease,\n",
      "His tender heir might bear his memory.\n",
      "But thou, contracted to thine own bright eyes,\n",
      "Feed'st thy light's flame with self-substantial fuel,\n",
      "Making a famine where abundance lies,\n",
      "Thyself thy foe, to thy sweet self too cruel.\n",
      "Thou that art now the world's fresh ornament\n",
      "And only herald to the gaudy spring\n",
      "Within thine own bud buriest thy content\n",
      "And, tender churl, mak'st waste in niggarding.\n",
      "  Pity the world, or else this glutton be--\n",
      "  To eat the world's due, by the grave and thee.\n",
      "\n"
     ]
    }
   ],
   "source": [
    "#check and make sure it's working right before we mess with anything\n",
    "print(corpus[0])"
   ]
  },
  {
   "cell_type": "code",
   "execution_count": 4,
   "id": "2c4436d5-b74c-4c08-95ad-f3cda4f989c1",
   "metadata": {},
   "outputs": [
    {
     "name": "stdout",
     "output_type": "stream",
     "text": [
      "frozenset({'off', 'using', 'system', 'front', 'various', 'anyhow', 'whither', 'therein', 'therefore', 'side', 'often', 'formerly', 'next', 'twelve', 'ie', 'fifty', 'ever', 'with', 'all', 'only', 'whereafter', 'everywhere', 'around', 'eleven', 'nor', 'wherever', 'we', 'besides', 'an', 'mine', 'keep', 'noone', 'the', 'could', 'once', 'whereby', 'one', 'ten', 'didn', 'afterwards', 'on', 'his', 'everyone', 'until', 'here', 'onto', 'amongst', 'neither', 'really', 'too', 'bottom', 'although', 'during', 'becoming', 'empty', 'forty', 'eight', 'me', 'first', 'own', 'its', 'un', 'be', 'while', 'something', 'whole', 'hence', 'have', 'anything', 'will', 'as', 'might', 'anyway', 'to', 'she', 'from', 'does', 'seeming', 'put', 'no', 'eg', 'should', 'five', 'done', 'mill', 'himself', 'what', 'my', 'their', 'our', 'how', 'elsewhere', 'thereupon', 'find', 'has', 'somehow', 'call', 'amoungst', 'else', 'seem', 'co', 'well', 'since', 'and', 'that', 'sincere', 'unless', 'none', 'these', 'whose', 'across', 'about', 'inc', 'i', 'yourself', 'become', 'cannot', 'without', 'doesn', 'you', 'twenty', 'everything', 'perhaps', 'more', 'get', 'ours', 'by', 'third', 'beyond', 'at', 'detail', 'but', 'into', 'ourselves', 'seems', 'hundred', 'nine', 'over', 'same', 'cant', 'four', 'very', 'now', 'thick', 'go', 'yet', 'just', 'someone', 'anywhere', 'why', 'moreover', 'regarding', 'last', 'other', 'rather', 'nevertheless', 'whereas', 'it', 'towards', 'further', 'your', 'nobody', 'where', 'least', 'several', 'see', 'before', 'amount', 'fifteen', 'do', 'thereafter', 'give', 'behind', 'some', 'again', 'in', 'itself', 'computer', 'sometimes', 'describe', 'whence', 'myself', 'sixty', 'still', 'sometime', 'hereafter', 'were', 'any', 'nowhere', 'hereupon', 'this', 'among', 'cry', 'because', 'him', 'whenever', 'beside', 'via', 'used', 'thereby', 'or', 'due', 'full', 'am', 'such', 'somewhere', 'did', 'had', 'herself', 'show', 'being', 'former', 'down', 'meanwhile', 'both', 'bill', 'throughout', 'every', 'after', 'up', 'also', 'don', 'serious', 'hereby', 'becomes', 'than', 'even', 'themselves', 'made', 'whoever', 'already', 're', 'for', 'her', 'mostly', 'make', 'namely', 'whatever', 'interest', 'alone', 'together', 'against', 'others', 'each', 'always', 'seemed', 'quite', 'anyone', 'kg', 'those', 'thin', 'toward', 'wherein', 'nothing', 'much', 'however', 'many', 'he', 'three', 'two', 'so', 'part', 'then', 'please', 'herein', 'take', 'except', 'almost', 'can', 'either', 'of', 'who', 'upon', 'may', 'us', 'they', 'name', 'hers', 'ltd', 'when', 'few', 'been', 'are', 'top', 'between', 'hasnt', 'thence', 'otherwise', 'back', 'move', 'them', 'doing', 'through', 'under', 'yourselves', 'whereupon', 'would', 'whom', 'though', 'was', 'per', 'fire', 'enough', 'out', 'below', 'which', 'most', 'yours', 'beforehand', 'within', 'along', 'above', 'if', 'six', 'latterly', 'must', 'de', 'latter', 'etc', 'thus', 'say', 'another', 'found', 'a', 'is', 'whether', 'there', 'couldnt', 'con', 'not', 'thru', 'became', 'fill', 'never', 'km', 'less', 'indeed'})\n",
      "['a\\n', 'about\\n', 'actually\\n', 'almost\\n', 'also\\n', 'although\\n', 'always\\n', 'am\\n', 'an\\n', 'and\\n', 'any\\n', 'are\\n', 'as\\n', 'at\\n', 'be\\n', 'became\\n', 'become\\n', 'but\\n', 'by\\n', 'can\\n', 'could\\n', 'did\\n', 'do\\n', 'does\\n', 'each\\n', 'either\\n', 'else\\n', 'for\\n', 'from\\n', 'had\\n', 'has\\n', 'have\\n', 'hence\\n', 'how\\n', 'i\\n', 'if\\n', 'in\\n', 'is\\n', 'it\\n', 'its\\n', 'just\\n', 'may\\n', 'maybe\\n', 'me\\n', 'might\\n', 'mine\\n', 'must\\n', 'my\\n', 'mine\\n', 'must\\n', 'my\\n', 'neither\\n', 'nor\\n', 'not\\n', 'of\\n', 'oh\\n', 'ok\\n', 'when\\n', 'where\\n', 'whereas\\n', 'wherever\\n', 'whenever\\n', 'whether\\n', 'which\\n', 'while\\n', 'who\\n', 'whom\\n', 'whoever\\n', 'whose\\n', 'why\\n', 'will\\n', 'with\\n', 'within\\n', 'without\\n', 'would\\n', 'yes\\n', 'yet\\n', 'you\\n', 'your\\n']\n"
     ]
    }
   ],
   "source": [
    "print(STOPWORDS)"
   ]
  },
  {
   "cell_type": "code",
   "execution_count": null,
   "id": "b5daf176-a175-4da8-a614-68b1cc629f31",
   "metadata": {},
   "outputs": [],
   "source": [
    "stop_words = open(\"stopwords.txt\", 'r').readlines()\n",
    "STOPWORDS = stop_words\n",
    "print(STOPWORDS)"
   ]
  },
  {
   "cell_type": "code",
   "execution_count": 74,
   "id": "8a811a8f-3083-4ed9-b02f-23a68bd65296",
   "metadata": {},
   "outputs": [],
   "source": [
    "preprocessed_corpus = []\n",
    "for index, sonnet in enumerate(corpus):\n",
    "    preprocessed_corpus.append(simple_preprocess(remove_stopwords(sonnet)))"
   ]
  },
  {
   "cell_type": "code",
   "execution_count": 75,
   "id": "9bf242c8-b0fa-4e13-a638-86a1de78471d",
   "metadata": {},
   "outputs": [
    {
     "name": "stdout",
     "output_type": "stream",
     "text": [
      "['from', 'fairest', 'creatures', 'desire', 'increase', 'that', 'beauty', 'rose', 'die', 'but', 'riper', 'time', 'decease', 'his', 'tender', 'heir', 'bear', 'memory', 'but', 'thou', 'contracted', 'thine', 'bright', 'eyes', 'feed', 'st', 'thy', 'light', 'flame', 'self', 'substantial', 'fuel', 'making', 'famine', 'abundance', 'lies', 'thyself', 'thy', 'foe', 'thy', 'sweet', 'self', 'cruel', 'thou', 'art', 'world', 'fresh', 'ornament', 'and', 'herald', 'gaudy', 'spring', 'within', 'thine', 'bud', 'buriest', 'thy', 'content', 'and', 'tender', 'churl', 'mak', 'st', 'waste', 'niggarding', 'pity', 'world', 'glutton', 'be', 'to', 'eat', 'world', 'due', 'grave', 'thee']\n"
     ]
    }
   ],
   "source": [
    "print(preprocessed_corpus[0])"
   ]
  },
  {
   "cell_type": "code",
   "execution_count": 25,
   "id": "ed4607c7-780b-443b-a7b9-0eb64001c5f1",
   "metadata": {},
   "outputs": [
    {
     "name": "stdout",
     "output_type": "stream",
     "text": [
      "From fairest creatures we desire increase,\n",
      "That thereby beauty's rose might never die,\n",
      "But, as the riper should by time decease,\n",
      "His tender heir might bear his memory.\n",
      "But thou, contracted to thine own bright eyes,\n",
      "Feed'st thy light's flame with self-substantial fuel,\n",
      "Making a famine where abundance lies,\n",
      "Thyself thy foe, to thy sweet self too cruel.\n",
      "Thou that art now the world's fresh ornament\n",
      "And only herald to the gaudy spring\n",
      "Within thine own bud buriest thy content\n",
      "And, tender churl, mak'st waste in niggarding.\n",
      "  Pity the world, or else this glutton be--\n",
      "  To eat the world's due, by the grave and thee.\n",
      "\n"
     ]
    }
   ],
   "source": [
    "Sonnet1 = open('Sonnet_001.txt', 'r').read()\n",
    "print(Sonnet1)"
   ]
  },
  {
   "cell_type": "code",
   "execution_count": 26,
   "id": "af6fd5c8-151d-44ea-ae07-1604f81edebc",
   "metadata": {},
   "outputs": [],
   "source": [
    "\"\"\"\n",
    "A dictionary is a computationally efficient collection of associated values.\n",
    "It's more complicated than that, but for the purposes of this talk, \n",
    "that's all that you need to know.\n",
    "See: https://www.w3schools.com/python/python_dictionaries.asp, https://www.youtube.com/watch?v=daefaLgNkw0\n",
    "\"\"\"\n",
    "dictionary = corpora.Dictionary(preprocessed_corpus)"
   ]
  },
  {
   "cell_type": "code",
   "execution_count": 27,
   "id": "998671df-5d2b-4355-9709-0956aa642a00",
   "metadata": {},
   "outputs": [
    {
     "name": "stdout",
     "output_type": "stream",
     "text": [
      "[0, 1, 2, 3, 4, 5, 6, 7, 8, 9]\n"
     ]
    }
   ],
   "source": [
    "#print out the keys in the dictionary\n",
    "print(dictionary.keys()[0:10])"
   ]
  },
  {
   "cell_type": "code",
   "execution_count": 28,
   "id": "0a5c095b-ecbe-4b90-a9eb-35517a043a23",
   "metadata": {},
   "outputs": [
    {
     "name": "stdout",
     "output_type": "stream",
     "text": [
      "abundance\n",
      "and\n",
      "art\n",
      "as\n",
      "be\n",
      "bear\n",
      "beauty\n",
      "bright\n",
      "bud\n",
      "buriest\n"
     ]
    }
   ],
   "source": [
    "#this is a routine way to cycle information out of a dictionary\n",
    "for key in range(10):\n",
    "    print(dictionary[key])"
   ]
  },
  {
   "cell_type": "code",
   "execution_count": 39,
   "id": "c413c621-a01f-45e1-a4bb-a9a4702dccc7",
   "metadata": {},
   "outputs": [
    {
     "name": "stdout",
     "output_type": "stream",
     "text": [
      "Wall time: 173 ms\n"
     ]
    },
    {
     "data": {
      "text/plain": [
       "(145190, 254880)"
      ]
     },
     "execution_count": 39,
     "metadata": {},
     "output_type": "execute_result"
    }
   ],
   "source": [
    "%%time\n",
    "word2vec_model = Word2Vec(sentences=preprocessed_corpus, min_count=3)\n",
    "word2vec_model.train(corpus_iterable=preprocessed_corpus, total_examples=word2vec_model.corpus_count, epochs=15)"
   ]
  },
  {
   "cell_type": "code",
   "execution_count": 40,
   "id": "45ec5654-b44d-4213-8f95-d20d754a8608",
   "metadata": {},
   "outputs": [
    {
     "name": "stdout",
     "output_type": "stream",
     "text": [
      "Word2Vec(vocab=866, vector_size=100, alpha=0.025)\n"
     ]
    }
   ],
   "source": [
    "print(word2vec_model)"
   ]
  },
  {
   "cell_type": "code",
   "execution_count": 41,
   "id": "b02f20c0-e526-446e-95d6-fe662d00a777",
   "metadata": {},
   "outputs": [
    {
     "ename": "TypeError",
     "evalue": "unsupported operand type(s) for +: 'int' and 'str'",
     "output_type": "error",
     "traceback": [
      "\u001b[1;31m---------------------------------------------------------------------------\u001b[0m",
      "\u001b[1;31mTypeError\u001b[0m                                 Traceback (most recent call last)",
      "\u001b[1;32m<ipython-input-41-ced83a330fb5>\u001b[0m in \u001b[0;36m<module>\u001b[1;34m\u001b[0m\n\u001b[1;32m----> 1\u001b[1;33m \u001b[0mword2vec_model\u001b[0m\u001b[1;33m.\u001b[0m\u001b[0mbuild_vocab_from_freq\u001b[0m\u001b[1;33m(\u001b[0m\u001b[0mdictionary\u001b[0m\u001b[1;33m)\u001b[0m\u001b[1;33m\u001b[0m\u001b[1;33m\u001b[0m\u001b[0m\n\u001b[0m",
      "\u001b[1;32m~\\Anaconda3\\lib\\site-packages\\gensim\\models\\word2vec.py\u001b[0m in \u001b[0;36mbuild_vocab_from_freq\u001b[1;34m(self, word_freq, keep_raw_vocab, corpus_count, trim_rule, update)\u001b[0m\n\u001b[0;32m    524\u001b[0m         logger.info(\n\u001b[0;32m    525\u001b[0m             \u001b[1;34m\"collected %i different raw word, with total frequency of %i\"\u001b[0m\u001b[1;33m,\u001b[0m\u001b[1;33m\u001b[0m\u001b[1;33m\u001b[0m\u001b[0m\n\u001b[1;32m--> 526\u001b[1;33m             \u001b[0mlen\u001b[0m\u001b[1;33m(\u001b[0m\u001b[0mraw_vocab\u001b[0m\u001b[1;33m)\u001b[0m\u001b[1;33m,\u001b[0m \u001b[0msum\u001b[0m\u001b[1;33m(\u001b[0m\u001b[0mraw_vocab\u001b[0m\u001b[1;33m.\u001b[0m\u001b[0mvalues\u001b[0m\u001b[1;33m(\u001b[0m\u001b[1;33m)\u001b[0m\u001b[1;33m)\u001b[0m\u001b[1;33m,\u001b[0m\u001b[1;33m\u001b[0m\u001b[1;33m\u001b[0m\u001b[0m\n\u001b[0m\u001b[0;32m    527\u001b[0m         )\n\u001b[0;32m    528\u001b[0m \u001b[1;33m\u001b[0m\u001b[0m\n",
      "\u001b[1;31mTypeError\u001b[0m: unsupported operand type(s) for +: 'int' and 'str'"
     ]
    }
   ],
   "source": [
    "word2vec_model.wv.most_similar(\"her\")"
   ]
  },
  {
   "cell_type": "code",
   "execution_count": 46,
   "id": "baff713e-cb96-462b-91c2-1f1c8b8ba4e1",
   "metadata": {},
   "outputs": [
    {
     "data": {
      "text/plain": [
       "[('even', 0.9991260170936584),\n",
       " ('we', 0.9990231394767761),\n",
       " ('whose', 0.9989994764328003),\n",
       " ('sun', 0.9989936947822571),\n",
       " ('face', 0.9989826679229736),\n",
       " ('come', 0.9989339709281921),\n",
       " ('had', 0.9989339113235474),\n",
       " ('nature', 0.9989185333251953),\n",
       " ('age', 0.9989174604415894),\n",
       " ('past', 0.9989165663719177)]"
      ]
     },
     "execution_count": 46,
     "metadata": {},
     "output_type": "execute_result"
    }
   ],
   "source": [
    "word2vec_model.wv.most_similar(\"black\")"
   ]
  },
  {
   "cell_type": "code",
   "execution_count": 57,
   "id": "6dca5a47-beeb-4333-b35b-96d81e416084",
   "metadata": {},
   "outputs": [
    {
     "name": "stdout",
     "output_type": "stream",
     "text": [
      "[-0.07129078  0.12523201  0.01776025 -0.00795507  0.0526992  -0.16775218\n",
      "  0.05862209  0.27029848 -0.10844249 -0.09873787 -0.07621807 -0.1560705\n",
      " -0.05153387  0.06150523  0.07614873 -0.04797447 -0.04592939 -0.04819464\n",
      " -0.07416793 -0.21793011  0.03740507  0.01829625  0.12743616 -0.06857783\n",
      " -0.0509944  -0.03171322 -0.02794322 -0.08793896 -0.03520107  0.05620321\n",
      "  0.11764541  0.00312657  0.04080962 -0.13215233 -0.04948132  0.16514406\n",
      "  0.01238549 -0.07931055 -0.06016617 -0.18290651  0.0056009  -0.09361847\n",
      " -0.05789667  0.02239668  0.0807205  -0.06180663 -0.05112751 -0.00479011\n",
      "  0.06947525  0.05709887  0.05482631 -0.12578604 -0.00610112 -0.04034648\n",
      " -0.0582855   0.07509192  0.06847277 -0.04116675 -0.10452174  0.05211878\n",
      "  0.02787887  0.03195848  0.07070878 -0.03615986 -0.11052474  0.12072089\n",
      "  0.10113657  0.13509804 -0.22674209  0.15056244 -0.02117229  0.09677987\n",
      "  0.09437102  0.04496482  0.08621259  0.06127379 -0.01855629 -0.02588997\n",
      " -0.1034669   0.03917364 -0.07971236 -0.02299012 -0.07510561  0.09461398\n",
      " -0.03983235 -0.00220093  0.03817216  0.09466656  0.12619406  0.0290233\n",
      "  0.14917132  0.05953601 -0.05200759 -0.0073259   0.17674685  0.12187225\n",
      "  0.06382165 -0.13299546  0.01143536 -0.02915867]\n"
     ]
    }
   ],
   "source": [
    "print(np.subtract(word2vec_model.wv[\"even\"], word2vec_model.wv[\"black\"]))"
   ]
  },
  {
   "cell_type": "code",
   "execution_count": 61,
   "id": "e0975e5a-42cb-4d14-9792-948fe23aa907",
   "metadata": {},
   "outputs": [
    {
     "name": "stdout",
     "output_type": "stream",
     "text": [
      "['and', 'the', 'to', 'of', 'my', 'in', 'that', 'thy', 'thou', 'love', 'with', 'for', 'is', 'not', 'me', 'thee', 'but', 'so', 'be', 'all', 'as', 'you', 'his', 'which', 'when', 'it', 'this', 'your', 'by', 'doth', 'do', 'from', 'or', 'on', 'no', 'have', 'then', 'what', 'beauty', 'time', 'are', 'if', 'will', 'more', 'mine', 'their', 'shall', 'sweet', 'heart', 'eyes', 'they', 'st', 'nor', 'yet', 'art', 'her', 'than', 'now', 'thine', 'he', 'fair', 'can', 'should', 'make', 'hath', 'one', 'still', 'eye', 'how', 'him', 'where', 'see', 'true', 'like', 'am', 'though', 'world', 'those', 'she', 'being', 'such', 'some', 'own', 'who', 'were', 'may', 'myself', 'upon', 'live', 'dost', 'was', 'say', 'praise', 'give', 'most', 'did', 'let', 'day', 'might', 'at', 'well', 'new', 'why', 'show', 'truth', 'even', 'since', 'best', 'life', 'every', 'dear', 'thus', 'self', 'old', 'night', 'look', 'worth', 'would', 'must', 'these', 'know', 'thyself', 'death', 'part', 'false', 'ill', 'better', 'men', 'heaven', 'summer', 'alone', 'nothing', 'whose', 'face', 'made', 'away', 'thought', 'there', 'against', 'thoughts', 'too', 'our', 'much', 'sight', 'days', 'age', 'them', 'therefore', 'name', 'hast', 'hate', 'mind', 'both', 'an', 'find', 'far', 'tongue', 'out', 'muse', 'up', 'hand', 'youth', 'never', 'dead', 'other', 'friend', 'nature', 'others', 'come', 'verse', 'before', 'we', 'each', 'er', 'think', 'poor', 'good', 'tell', 'had', 'wilt', 'things', 'till', 'gentle', 'proud', 'state', 'lie', 'bear', 'full', 'black', 'take', 'hold', 'another', 'none', 'use', 'many', 'change', 'kind', 'mayst', 'hours', 'whom', 'woe', 'making', 'lies', 'die', 'ever', 'first', 'soul', 'sun', 'whilst', 'tis', 'seem', 'looks', 'long', 'pride', 'earth', 'grow', 'happy', 'seen', 'rich', 'pleasure', 'prove', 'shalt', 'grace', 'knows', 'within', 'end', 'bright', 'form', 'spirit', 'deeds', 'after', 'glass', 'leave', 'place', 'desire', 'pen', 'again', 'right', 'found', 'call', 'shame', 'th', 'great', 'blessed', 'any', 'store', 'could', 'words', 'loving', 'cannot', 'yourself', 'write', 'pity', 'fortune', 'lives', 'past', 'although', 'without', 'back', 'two', 'gone', 'strong', 'lose', 'beauteous', 'power', 'thing', 'keep', 'times', 'once', 'treasure', 'stay', 'decay', 'joy', 'makes', 'blood', 'hell', 'gives', 'body', 'shadow', 'disgrace', 'child', 'glory', 'view', 'save', 'sake', 'speak', 'lovely', 'lest', 'sin', 'delight', 'thence', 'loves', 'bring', 'mistress', 'faults', 'ring', 'winter', 'skill', 'loss', 'leaves', 'deep', 'flowers', 'fear', 'lines', 'stand', 'put', 'cruel', 'memory', 'brow', 'itself', 'fresh', 'parts', 'excuse', 'rest', 'sing', 'set', 'wide', 'fire', 'present', 'seeing', 'ah', 'worst', 'breath', 'breast', 'man', 'hear', 'waste', 'outward', 'war', 'virtue', 'bad', 'three', 'living', 'light', 'sad', 'behold', 'white', 'cold', 'straight', 'canst', 'lips', 'judgment', 'tender', 'foul', 'forth', 'honor', 'roses', 'very', 'swear', 'steal', 'ten', 'll', 'less', 'mad', 'play', 'dull', 'care', 'go', 'need', 'heavy', 'same', 'head', 'blind', 'enough', 'eternal', 'shows', 'despite', 'shouldst', 'hope', 'woman', 'wrong', 'having', 'dwell', 'compare', 'whether', 'hence', 'sometime', 'painting', 'sick', 'argument', 'born', 'strange', 'longer', 'gainst', 'swift', 'themselves', 'rose', 'through', 'return', 'book', 'rhyme', 'spent', 'wit', 'dumb', 'due', 'wealth', 'taught', 'fears', 'under', 'unless', 'music', 'sweets', 'reason', 'strength', 'been', 'way', 'spend', 'ere', 'precious', 'while', 'slave', 'grief', 'only', 'writ', 'green', 'here', 'yours', 'graces', 'year', 'mother', 'gift', 'slow', 'beloved', 'gave', 'oft', 'holds', 'date', 'keeps', 'doom', 'stars', 'painted', 'wish', 'says', 'fast', 'motion', 'rage', 'read', 'barren', 'least', 'large', 'brain', 'down', 'tomb', 'calls', 'rank', 'into', 'antique', 'sweetest', 'lov', 'boast', 'buried', 'spring', 'merit', 'ornament', 'faith', 'canker', 'invention', 'worthy', 'mortal', 'tears', 'kill', 'gracious', 'flower', 'lend', 'sorrow', 'ry', 'scope', 'base', 'quite', 'moan', 'everywhere', 'absence', 'left', 'stol', 'loved', 'birth', 'pain', 'hide', 'done', 'else', 'tied', 'short', 'cheek', 'lived', 'shape', 'saw', 'hue', 'spite', 'fell', 'near', 'purpose', 'wherein', 'grew', 'worse', 'sea', 'trust', 'needs', 'subject', 'speaking', 'truly', 'chide', 'angel', 'golden', 'wrinkles', 'scythe', 'frame', 'brass', 'beauties', 'work', 'knife', 'smell', 'win', 'unused', 'former', 'add', 'image', 'april', 'bosom', 'prime', 'behind', 'side', 'groan', 'song', 'husband', 'mark', 'single', 'forsworn', 'tongues', 'seek', 'weary', 'grant', 'worms', 'rude', 'lends', 'free', 'given', 'substance', 'second', 'remembered', 'used', 'weeds', 'public', 'jewel', 'tired', 'toil', 'dare', 'respect', 'bare', 'absent', 'red', 'removed', 'forgot', 'frown', 'said', 'want', 'either', 'lays', 'common', 'errors', 'wretched', 'gain', 'babe', 'above', 'praises', 'air', 'rare', 'sleep', 'story', 'abundance', 'farther', 'rehearse', 'grown', 'fairest', 'crowned', 'comfort', 'report', 'increase', 'help', 'thief', 'sense', 'wound', 'hour', 'shine', 'sovereign', 'appear', 'please', 'holy', 'catch', 'cure', 'account', 'leisure', 'lack', 'break', 'blame', 'taste', 'contented', 'just', 'clouds', 'dark', 'turns', 'grows', 'oaths', 'believe', 'evil', 'high', 'inward', 'told', 'numbers', 'wherefore', 'poet', 'touches', 'ne', 'sum', 'buds', 'shade', 'minutes', 'cheeks', 'picture', 'methinks', 'pluck', 'assured', 'crime', 'count', 'knowing', 'lost', 'lease', 'young', 'line', 'feel', 'thinking', 'taken', 'minds', 'brand', 'plague', 'bastard', 'mend', 'heir', 'vile', 'windows', 'mourn', 'whereto', 'slander', 'repair', 'conscience', 'suspect', 'flies', 'sworn', 'perjured', 'kiss', 'fingers', 'wood', 'laid', 'abuse', 'audit', 'advantage', 'decease', 'unkind', 'action', 'birds', 'growth', 'got', 'double', 'despair', 'works', 'seemed', 'grave', 'turn', 'simple', 'vow', 'fame', 'bonds', 'sway', 'sail', 'anew', 'silence', 'cost', 'color', 'flame', 'posterity', 'ground', 'receives', 'proof', 'proved', 'weed', 'pine', 'answer', 'infection', 'boy', 'dial', 'confined', 'steel', 'constancy', 'sinful', 'eternity', 'acquaintance', 'defense', 'elsewhere', 'favor', 'forget', 'perfect', 'burden', 'expressed', 'painter', 'because', 'therein', 'cunning', 'triumph', 'bed', 'thousand', 'razed', 'duty', 'send', 'witness', 'wanting', 'pretty', 'star', 'approve', 'gav', 'bearing', 'losing', 'shake', 'complexion', 'course', 'blunt', 'burn', 'forbid', 'draw', 'matter', 'flesh', 'women', 'wert', 'clear', 'shadows', 'moon', 'fixed', 'flattery', 'cover', 'haste', 'travel', 'home', 'sins', 'masked', 'stain', 'didst', 'bears', 'offense', 'cross', 'thorns', 'amiss', 'fault', 'foes', 'lawful', 'plea', 'twain', 'remain', 'evermore', 'vulgar', 'dearest', 'despised', 'alack', 'west', 'ride', 'basest', 'looking', 'injury', 'greater', 'blot', 'flatter', 'daily', 'friends', 'almost', 'haply', 'expense', 'torment', 'hearts', 'manners', 'lover', 'brought', 'style', 'outlive', 'foot', 'number', 'half', 'seeming', 'heavenly', 'feeding', 'today', 'son', 'appetite', 'edge', 'ear', 'record', 'quick', 'filled', 'stone', 'widow', 'gilded', 'weep', 'hang', 'odor', 'kept', 'tend', 'tomorrow', 'fill', 'lo', 'conquest', 'confounds', 'mock', 'stands', 'main', 'effect', 'wonder', 'character', 'distilled', 'five', 'doing', 'control', 'fool', 'pay', 'happier', 'thrice', 'shore', 'ocean', 'murd', 'rous', 'pace', 'seasons', 'rain', 'princes', 'knowledge', 'constant', 'wouldst', 'nought', 'whereon', 'height', 'wear', 'conceit', 'water', 'bloody', 'tyrant', 'means', 'virtuous', 'drawn', 'soon', 'brief', 'took', 'fairer', 'fall', 'speed', 'wretch', 'teach', 'cause', 'desert', 'brave', 'reasons', 'heat', 'borne', 'among', 'greet', 'pass', 'takes', 'prize', 'whence', 'chest', 'sure', 'bath']\n"
     ]
    }
   ],
   "source": [
    "print(word2vec_model.wv.index_to_key)"
   ]
  },
  {
   "cell_type": "code",
   "execution_count": null,
   "id": "a11cd9b6-8427-4737-a81a-d1cdf5a8432c",
   "metadata": {},
   "outputs": [],
   "source": []
  }
 ],
 "metadata": {
  "kernelspec": {
   "display_name": "Python 3",
   "language": "python",
   "name": "python3"
  },
  "language_info": {
   "codemirror_mode": {
    "name": "ipython",
    "version": 3
   },
   "file_extension": ".py",
   "mimetype": "text/x-python",
   "name": "python",
   "nbconvert_exporter": "python",
   "pygments_lexer": "ipython3",
   "version": "3.7.3"
  }
 },
 "nbformat": 4,
 "nbformat_minor": 5
}
